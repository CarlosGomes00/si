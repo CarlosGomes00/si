{
 "cells": [
  {
   "metadata": {},
   "cell_type": "markdown",
   "source": "# Exercicio 1",
   "id": "c70c8814172fb1ba"
  },
  {
   "metadata": {
    "ExecuteTime": {
     "end_time": "2024-12-06T22:18:17.846210Z",
     "start_time": "2024-12-06T22:18:17.413353Z"
    }
   },
   "cell_type": "code",
   "source": [
    "import pandas as pd\n",
    "\n",
    "from csv_file import *\n",
    "from data_file import *\n",
    "from si.decomposition.pca import PCA"
   ],
   "id": "b0657572a8920d3d",
   "execution_count": 2,
   "outputs": []
  },
  {
   "metadata": {},
   "cell_type": "markdown",
   "source": "1.1) In this exercise, we will use the iris dataset. Load the \"iris.csv\" using the appropriate method for this file type (use the new functions from the package).",
   "id": "46032e82d38a1881"
  },
  {
   "metadata": {
    "ExecuteTime": {
     "end_time": "2024-09-30T14:26:28.896927Z",
     "start_time": "2024-09-30T14:26:28.864406Z"
    }
   },
   "cell_type": "code",
   "source": [
    "data_exerc = pd.read_csv('iris.csv')\n",
    "\n",
    "data_exerc.head()"
   ],
   "id": "4ba220977a33ac18",
   "execution_count": 20,
   "outputs": []
  },
  {
   "metadata": {},
   "cell_type": "markdown",
   "source": "1.2) Select the penultimate independent variable. What is the dimension of the resulting array?",
   "id": "5a41e983df69c023"
  },
  {
   "metadata": {
    "ExecuteTime": {
     "end_time": "2024-09-30T14:15:10.254500Z",
     "start_time": "2024-09-30T14:15:10.238179Z"
    }
   },
   "cell_type": "code",
   "source": [
    "data_exerc.head()\n",
    "\n",
    "petal_lenght = data_exerc.iloc[:,-2]\n",
    "\n",
    "print(petal_lenght.shape)"
   ],
   "id": "387bca888977831e",
   "execution_count": 16,
   "outputs": []
  },
  {
   "metadata": {},
   "cell_type": "markdown",
   "source": [
    "1.3) Select the last 10 samples from the iris dataset.\n",
    "What is the mean of the last 10 samples for each\n",
    "independent variable/feature?"
   ],
   "id": "4bfde5f604195a74"
  },
  {
   "metadata": {
    "ExecuteTime": {
     "end_time": "2024-09-30T14:27:15.848Z",
     "start_time": "2024-09-30T14:27:15.824769Z"
    }
   },
   "cell_type": "code",
   "source": [
    "data_exerc_no_lcolumn = data_exerc.drop(columns=['class'])\n",
    "\n",
    "ultimas_linhas = data_exerc_no_lcolumn.tail(10)\n",
    "\n",
    "ultimas_linhas.mean()"
   ],
   "id": "7223ddf82ede26e9",
   "execution_count": 23,
   "outputs": []
  },
  {
   "metadata": {},
   "cell_type": "markdown",
   "source": "1.4) Select all samples from the dataset with values less than or equal to 6 for all independent variables/features. How many samples do you obtain?",
   "id": "e26efabee612f0d4"
  },
  {
   "metadata": {
    "ExecuteTime": {
     "end_time": "2024-09-30T14:48:39.039582Z",
     "start_time": "2024-09-30T14:48:39.023599Z"
    }
   },
   "cell_type": "code",
   "source": [
    "filtro = (data_exerc_no_lcolumn > 6)\n",
    "\n",
    "filtro.sum()\n",
    "\n",
    "# Obtêm-se 60 samples"
   ],
   "id": "12b9af2a661154e1",
   "execution_count": 29,
   "outputs": []
  },
  {
   "metadata": {},
   "cell_type": "markdown",
   "source": "1.5) Select all samples with a class/label different from 'Iris-setosa'. How many samples do you obtain?",
   "id": "6d7ce6f6d0140df7"
  },
  {
   "metadata": {
    "ExecuteTime": {
     "end_time": "2024-09-30T14:59:12.693852Z",
     "start_time": "2024-09-30T14:59:12.680634Z"
    }
   },
   "cell_type": "code",
   "source": [
    "no_iris = data_exerc.iloc[:,-1] != 'Iris-setosa'\n",
    "\n",
    "no_iris.sum()\n",
    "\n",
    "# Obtem-se 100 samples que não contenham Iris-Setosa"
   ],
   "id": "504a64853bd6cb72",
   "execution_count": 39,
   "outputs": []
  },
  {
   "metadata": {},
   "cell_type": "markdown",
   "source": [
    "# Exercicio 2) \n",
    "Para observar o exercício 2, ir verificar o ficheiro **src/si/data/dataset.py**"
   ],
   "id": "d6fdb9333c944569"
  },
  {
   "metadata": {},
   "cell_type": "markdown",
   "source": [
    "# Exercicio 3)\n",
    "Para observar o exercício 3, ir verificar o ficheiro **src/si/feature_selection/select_percentile.py**\n",
    "\n",
    "3.3) Test the SelectPercentile class in a Jupyter notebook using the \"iris.csv\" dataset (classification)."
   ],
   "id": "718335e84a30e2ca"
  },
  {
   "metadata": {},
   "cell_type": "code",
   "execution_count": null,
   "source": [
    "import pandas as pd\n",
    "from si.feature_selection.select_percentile import SelectPercentile\n",
    "\n",
    "dataset_path = 'C:/Users/carla/PycharmProjects/Mestrado/SI_ML/Sistemas_Inteligentes_ML/si/datasets/iris/iris.csv'"
   ],
   "id": "7b35c654d1ef8be0",
   "outputs": []
  },
  {
   "metadata": {},
   "cell_type": "markdown",
   "source": [
    "# Exercicio 4) \n",
    "Para observar o exercício 4, ir verificar o ficheiro **src/si/statistics/cosine_distance.py**"
   ],
   "id": "60286c3f426c11bc"
  },
  {
   "metadata": {},
   "cell_type": "markdown",
   "source": [
    "# Exercicio 5)\n",
    "Para observar o exercício 5.1, ir verificar o ficheiro **src/si/decomposition/pca.py**\n",
    "\n",
    "5.2) Test the PCA class in a jupyter notebook using the iris.csv dataset (classificação)."
   ],
   "id": "7d8abb4e406f6a05"
  },
  {
   "metadata": {
    "ExecuteTime": {
     "end_time": "2024-12-09T14:56:55.153291Z",
     "start_time": "2024-12-09T14:56:55.135291Z"
    }
   },
   "cell_type": "code",
   "source": [
    "from si.decomposition.pca import PCA\n",
    "from si.io.csv_file import read_csv\n",
    "\n",
    "\n",
    "csv_file = '/Users/carla/PycharmProjects/Mestrado/SI_ML/Sistemas_Inteligentes_ML/si/datasets/iris/iris.csv'\n",
    "                \n",
    "dataset = read_csv(filename = csv_file, features=True, label=True)\n",
    "\n",
    "pca = PCA(n_components=2)\n",
    "pca._fit(dataset)\n",
    "pca._transform(dataset)"
   ],
   "id": "be7a30e97fb82191",
   "execution_count": 18,
   "outputs": []
  },
  {
   "metadata": {},
   "cell_type": "markdown",
   "source": [
    "# Exercicio 6)\n",
    "Para observar o exercício 6.1, ir verificar o ficheiro **src/si/model_selection/split.py**\n",
    "\n",
    "Já para observar o exercício 6.2, ir verificar o ficheiro **tests/unit_tests/test_split.py**"
   ],
   "id": "7838a70ddbad0094"
  },
  {
   "metadata": {},
   "cell_type": "markdown",
   "source": [
    "# Exercicio 7)\n",
    "\n",
    "Para observar o exercício 7.1, ir verificar o ficheiro **src/si/metrics/rmse.py**\n",
    "\n",
    "Para observar o exercício 7.2, ir verificar o ficheiro **src/si/models/knn_regressor**"
   ],
   "id": "7f842fa52426ed0"
  },
  {
   "metadata": {},
   "cell_type": "markdown",
   "source": [
    "# Exercicio 8)\n",
    "\n",
    "Para observar o exercício 8.1, ir verificar o ficheiro **src/si/models/lasso_regression.py**"
   ],
   "id": "7748f9ea24a13347"
  },
  {
   "metadata": {},
   "cell_type": "markdown",
   "source": [
    "# Exercício 9)\n",
    "Para verificar o exercício 9.1, ir verificar o ficheiro rc/si/models/random_forest_classifier.py"
   ],
   "id": "64fe770d5cd542b3"
  }
 ],
 "metadata": {
  "kernelspec": {
   "display_name": "Python 3",
   "language": "python",
   "name": "python3"
  },
  "language_info": {
   "codemirror_mode": {
    "name": "ipython",
    "version": 2
   },
   "file_extension": ".py",
   "mimetype": "text/x-python",
   "name": "python",
   "nbconvert_exporter": "python",
   "pygments_lexer": "ipython2",
   "version": "2.7.6"
  }
 },
 "nbformat": 4,
 "nbformat_minor": 5
}
