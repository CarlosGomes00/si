{
 "cells": [
  {
   "metadata": {},
   "cell_type": "markdown",
   "source": "# Exercicio 1",
   "id": "c70c8814172fb1ba"
  },
  {
   "metadata": {
    "ExecuteTime": {
     "end_time": "2024-12-06T22:18:17.846210Z",
     "start_time": "2024-12-06T22:18:17.413353Z"
    }
   },
   "cell_type": "code",
   "source": [
    "import pandas as pd\n",
    "\n",
    "from csv_file import *\n",
    "from data_file import *\n",
    "from si.decomposition.pca import PCA"
   ],
   "id": "b0657572a8920d3d",
   "execution_count": 2,
   "outputs": []
  },
  {
   "metadata": {},
   "cell_type": "markdown",
   "source": "1.1) In this exercise, we will use the iris dataset. Load the \"iris.csv\" using the appropriate method for this file type (use the new functions from the package).",
   "id": "46032e82d38a1881"
  },
  {
   "metadata": {
    "ExecuteTime": {
     "end_time": "2024-09-30T14:26:28.896927Z",
     "start_time": "2024-09-30T14:26:28.864406Z"
    }
   },
   "cell_type": "code",
   "source": [
    "data_exerc = pd.read_csv('iris.csv')\n",
    "\n",
    "data_exerc.head()"
   ],
   "id": "4ba220977a33ac18",
   "execution_count": 20,
   "outputs": []
  },
  {
   "metadata": {},
   "cell_type": "markdown",
   "source": "1.2) Select the penultimate independent variable. What is the dimension of the resulting array?",
   "id": "5a41e983df69c023"
  },
  {
   "metadata": {
    "ExecuteTime": {
     "end_time": "2024-09-30T14:15:10.254500Z",
     "start_time": "2024-09-30T14:15:10.238179Z"
    }
   },
   "cell_type": "code",
   "source": [
    "data_exerc.head()\n",
    "\n",
    "petal_lenght = data_exerc.iloc[:,-2]\n",
    "\n",
    "print(petal_lenght.shape)"
   ],
   "id": "387bca888977831e",
   "execution_count": 16,
   "outputs": []
  },
  {
   "metadata": {},
   "cell_type": "markdown",
   "source": [
    "1.3) Select the last 10 samples from the iris dataset.\n",
    "What is the mean of the last 10 samples for each\n",
    "independent variable/feature?"
   ],
   "id": "4bfde5f604195a74"
  },
  {
   "metadata": {
    "ExecuteTime": {
     "end_time": "2024-09-30T14:27:15.848Z",
     "start_time": "2024-09-30T14:27:15.824769Z"
    }
   },
   "cell_type": "code",
   "source": [
    "data_exerc_no_lcolumn = data_exerc.drop(columns=['class'])\n",
    "\n",
    "ultimas_linhas = data_exerc_no_lcolumn.tail(10)\n",
    "\n",
    "ultimas_linhas.mean()"
   ],
   "id": "7223ddf82ede26e9",
   "execution_count": 23,
   "outputs": []
  },
  {
   "metadata": {},
   "cell_type": "markdown",
   "source": "1.4) Select all samples from the dataset with values less than or equal to 6 for all independent variables/features. How many samples do you obtain?",
   "id": "e26efabee612f0d4"
  },
  {
   "metadata": {
    "ExecuteTime": {
     "end_time": "2024-09-30T14:48:39.039582Z",
     "start_time": "2024-09-30T14:48:39.023599Z"
    }
   },
   "cell_type": "code",
   "source": [
    "filtro = (data_exerc_no_lcolumn > 6)\n",
    "\n",
    "filtro.sum()\n",
    "\n",
    "# Obtêm-se 60 samples"
   ],
   "id": "12b9af2a661154e1",
   "execution_count": 29,
   "outputs": []
  },
  {
   "metadata": {},
   "cell_type": "markdown",
   "source": "1.5) Select all samples with a class/label different from 'Iris-setosa'. How many samples do you obtain?",
   "id": "6d7ce6f6d0140df7"
  },
  {
   "metadata": {
    "ExecuteTime": {
     "end_time": "2024-09-30T14:59:12.693852Z",
     "start_time": "2024-09-30T14:59:12.680634Z"
    }
   },
   "cell_type": "code",
   "source": [
    "no_iris = data_exerc.iloc[:,-1] != 'Iris-setosa'\n",
    "\n",
    "no_iris.sum()\n",
    "\n",
    "# Obtem-se 100 samples que não contenham Iris-Setosa"
   ],
   "id": "504a64853bd6cb72",
   "execution_count": 39,
   "outputs": []
  },
  {
   "metadata": {},
   "cell_type": "markdown",
   "source": [
    "# Exercicio 2) \n",
    "Para observar o exercício 2, ir verificar o ficheiro **src/si/data/dataset.py**"
   ],
   "id": "d6fdb9333c944569"
  },
  {
   "metadata": {},
   "cell_type": "markdown",
   "source": [
    "# Exercicio 3)\n",
    "Para observar o exercício 3, ir verificar o ficheiro **src/si/feature_selection/select_percentile.py**\n",
    "\n",
    "3.3) Test the SelectPercentile class in a Jupyter notebook using the \"iris.csv\" dataset (classification)."
   ],
   "id": "718335e84a30e2ca"
  },
  {
   "metadata": {},
   "cell_type": "code",
   "execution_count": null,
   "source": [
    "import pandas as pd\n",
    "from si.feature_selection.select_percentile import SelectPercentile\n",
    "\n",
    "dataset_path = 'C:/Users/carla/PycharmProjects/Mestrado/SI_ML/Sistemas_Inteligentes_ML/si/datasets/iris/iris.csv'"
   ],
   "id": "7b35c654d1ef8be0",
   "outputs": []
  },
  {
   "metadata": {},
   "cell_type": "markdown",
   "source": [
    "# Exercicio 4) \n",
    "Para observar o exercício 4, ir verificar o ficheiro **src/si/statistics/cosine_distance.py**"
   ],
   "id": "60286c3f426c11bc"
  },
  {
   "metadata": {},
   "cell_type": "markdown",
   "source": [
    "# Exercicio 5)\n",
    "Para observar o exercício 5.1, ir verificar o ficheiro **src/si/decomposition/pca.py**\n",
    "\n",
    "5.2) Test the PCA class in a jupyter notebook using the iris.csv dataset (classificação)."
   ],
   "id": "7d8abb4e406f6a05"
  },
  {
   "metadata": {
    "ExecuteTime": {
     "end_time": "2024-12-24T15:58:02.816976Z",
     "start_time": "2024-12-24T15:58:02.058914Z"
    }
   },
   "cell_type": "code",
   "source": [
    "from si.decomposition.pca import PCA\n",
    "from si.io.csv_file import read_csv\n",
    "\n",
    "\n",
    "csv_file = '/Users/carla/PycharmProjects/Mestrado/SI_ML/Sistemas_Inteligentes_ML/si/datasets/iris/iris.csv'\n",
    "                \n",
    "dataset = read_csv(filename = csv_file, features=True, label=True)\n",
    "\n",
    "pca = PCA(n_components=2)\n",
    "pca._fit(dataset)\n",
    "pca._transform(dataset)"
   ],
   "id": "be7a30e97fb82191",
   "outputs": [
    {
     "data": {
      "text/plain": [
       "array([[-2.68420713, -0.32660731],\n",
       "       [-2.71539062,  0.16955685],\n",
       "       [-2.88981954,  0.13734561],\n",
       "       [-2.7464372 ,  0.31112432],\n",
       "       [-2.72859298, -0.33392456],\n",
       "       [-2.27989736, -0.74778271],\n",
       "       [-2.82089068,  0.08210451],\n",
       "       [-2.62648199, -0.17040535],\n",
       "       [-2.88795857,  0.57079803],\n",
       "       [-2.67384469,  0.1066917 ],\n",
       "       [-2.50652679, -0.65193501],\n",
       "       [-2.61314272, -0.02152063],\n",
       "       [-2.78743398,  0.22774019],\n",
       "       [-3.22520045,  0.50327991],\n",
       "       [-2.64354322, -1.1861949 ],\n",
       "       [-2.38386932, -1.34475434],\n",
       "       [-2.6225262 , -0.81808967],\n",
       "       [-2.64832273, -0.31913667],\n",
       "       [-2.19907796, -0.87924409],\n",
       "       [-2.58734619, -0.52047364],\n",
       "       [-2.3105317 , -0.39786782],\n",
       "       [-2.54323491, -0.44003175],\n",
       "       [-3.21585769, -0.14161557],\n",
       "       [-2.30312854, -0.10552268],\n",
       "       [-2.35617109,  0.03120959],\n",
       "       [-2.50791723,  0.13905634],\n",
       "       [-2.469056  , -0.13788731],\n",
       "       [-2.56239095, -0.37468456],\n",
       "       [-2.63982127, -0.31929007],\n",
       "       [-2.63284791,  0.19007583],\n",
       "       [-2.58846205,  0.19739308],\n",
       "       [-2.41007734, -0.41808001],\n",
       "       [-2.64763667, -0.81998263],\n",
       "       [-2.59715948, -1.10002193],\n",
       "       [-2.67384469,  0.1066917 ],\n",
       "       [-2.86699985, -0.0771931 ],\n",
       "       [-2.62522846, -0.60680001],\n",
       "       [-2.67384469,  0.1066917 ],\n",
       "       [-2.98184266,  0.48025005],\n",
       "       [-2.59032303, -0.23605934],\n",
       "       [-2.77013891, -0.27105942],\n",
       "       [-2.85221108,  0.93286537],\n",
       "       [-2.99829644,  0.33430757],\n",
       "       [-2.4055141 , -0.19591726],\n",
       "       [-2.20883295, -0.44269603],\n",
       "       [-2.71566519,  0.24268148],\n",
       "       [-2.53757337, -0.51036755],\n",
       "       [-2.8403213 ,  0.22057634],\n",
       "       [-2.54268576, -0.58628103],\n",
       "       [-2.70391231, -0.11501085],\n",
       "       [ 1.28479459, -0.68543919],\n",
       "       [ 0.93241075, -0.31919809],\n",
       "       [ 1.46406132, -0.50418983],\n",
       "       [ 0.18096721,  0.82560394],\n",
       "       [ 1.08713449, -0.07539039],\n",
       "       [ 0.64043675,  0.41732348],\n",
       "       [ 1.09522371, -0.28389121],\n",
       "       [-0.75146714,  1.00110751],\n",
       "       [ 1.04329778, -0.22895691],\n",
       "       [-0.01019007,  0.72057487],\n",
       "       [-0.5110862 ,  1.26249195],\n",
       "       [ 0.51109806,  0.10228411],\n",
       "       [ 0.26233576,  0.5478933 ],\n",
       "       [ 0.98404455,  0.12436042],\n",
       "       [-0.174864  ,  0.25181557],\n",
       "       [ 0.92757294, -0.46823621],\n",
       "       [ 0.65959279,  0.35197629],\n",
       "       [ 0.23454059,  0.33192183],\n",
       "       [ 0.94236171,  0.54182226],\n",
       "       [ 0.0432464 ,  0.58148945],\n",
       "       [ 1.11624072,  0.08421401],\n",
       "       [ 0.35678657,  0.06682383],\n",
       "       [ 1.29646885,  0.32756152],\n",
       "       [ 0.92050265,  0.18239036],\n",
       "       [ 0.71400821, -0.15037915],\n",
       "       [ 0.89964086, -0.32961098],\n",
       "       [ 1.33104142, -0.24466952],\n",
       "       [ 1.55739627, -0.26739258],\n",
       "       [ 0.81245555,  0.16233157],\n",
       "       [-0.30733476,  0.36508661],\n",
       "       [-0.07034289,  0.70253793],\n",
       "       [-0.19188449,  0.67749054],\n",
       "       [ 0.13499495,  0.31170964],\n",
       "       [ 1.37873698,  0.42120514],\n",
       "       [ 0.58727485,  0.48328427],\n",
       "       [ 0.8072055 , -0.19505396],\n",
       "       [ 1.22042897, -0.40803534],\n",
       "       [ 0.81286779,  0.370679  ],\n",
       "       [ 0.24519516,  0.26672804],\n",
       "       [ 0.16451343,  0.67966147],\n",
       "       [ 0.46303099,  0.66952655],\n",
       "       [ 0.89016045,  0.03381244],\n",
       "       [ 0.22887905,  0.40225762],\n",
       "       [-0.70708128,  1.00842476],\n",
       "       [ 0.35553304,  0.50321849],\n",
       "       [ 0.33112695,  0.21118014],\n",
       "       [ 0.37523823,  0.29162202],\n",
       "       [ 0.64169028, -0.01907118],\n",
       "       [-0.90846333,  0.75156873],\n",
       "       [ 0.29780791,  0.34701652],\n",
       "       [ 2.53172698,  0.01184224],\n",
       "       [ 1.41407223,  0.57492506],\n",
       "       [ 2.61648461, -0.34193529],\n",
       "       [ 1.97081495,  0.18112569],\n",
       "       [ 2.34975798,  0.04188255],\n",
       "       [ 3.39687992, -0.54716805],\n",
       "       [ 0.51938325,  1.19135169],\n",
       "       [ 2.9320051 , -0.35237701],\n",
       "       [ 2.31967279,  0.24554817],\n",
       "       [ 2.91813423, -0.78038063],\n",
       "       [ 1.66193495, -0.2420384 ],\n",
       "       [ 1.80234045,  0.21615461],\n",
       "       [ 2.16537886, -0.21528028],\n",
       "       [ 1.34459422,  0.77641543],\n",
       "       [ 1.5852673 ,  0.53930705],\n",
       "       [ 1.90474358, -0.11881899],\n",
       "       [ 1.94924878, -0.04073026],\n",
       "       [ 3.48876538, -1.17154454],\n",
       "       [ 3.79468686, -0.25326557],\n",
       "       [ 1.29832982,  0.76101394],\n",
       "       [ 2.42816726, -0.37678197],\n",
       "       [ 1.19809737,  0.60557896],\n",
       "       [ 3.49926548, -0.45677347],\n",
       "       [ 1.38766825,  0.20403099],\n",
       "       [ 2.27585365, -0.33338653],\n",
       "       [ 2.61419383, -0.55836695],\n",
       "       [ 1.25762518,  0.179137  ],\n",
       "       [ 1.29066965,  0.11642525],\n",
       "       [ 2.12285398,  0.21085488],\n",
       "       [ 2.3875644 , -0.46251925],\n",
       "       [ 2.84096093, -0.37274259],\n",
       "       [ 3.2323429 , -1.37052404],\n",
       "       [ 2.15873837,  0.21832553],\n",
       "       [ 1.4431026 ,  0.14380129],\n",
       "       [ 1.77964011,  0.50146479],\n",
       "       [ 3.07652162, -0.68576444],\n",
       "       [ 2.14498686, -0.13890661],\n",
       "       [ 1.90486293, -0.04804751],\n",
       "       [ 1.16885347,  0.1645025 ],\n",
       "       [ 2.10765373, -0.37148225],\n",
       "       [ 2.31430339, -0.18260885],\n",
       "       [ 1.92245088, -0.40927118],\n",
       "       [ 1.41407223,  0.57492506],\n",
       "       [ 2.56332271, -0.2759745 ],\n",
       "       [ 2.41939122, -0.30350394],\n",
       "       [ 1.94401705, -0.18741522],\n",
       "       [ 1.52566363,  0.37502085],\n",
       "       [ 1.76404594, -0.07851919],\n",
       "       [ 1.90162908, -0.11587675],\n",
       "       [ 1.38966613,  0.28288671]])"
      ]
     },
     "execution_count": 1,
     "metadata": {},
     "output_type": "execute_result"
    }
   ],
   "execution_count": 1
  },
  {
   "metadata": {},
   "cell_type": "markdown",
   "source": [
    "# Exercicio 6)\n",
    "Para observar o exercício 6.1, ir verificar o ficheiro **src/si/model_selection/split.py**\n",
    "\n",
    "Já para observar o exercício 6.2, ir verificar o ficheiro **tests/unit_tests/test_split.py**"
   ],
   "id": "7838a70ddbad0094"
  },
  {
   "metadata": {},
   "cell_type": "markdown",
   "source": [
    "# Exercicio 7)\n",
    "\n",
    "Para observar o exercício 7.1, ir verificar o ficheiro **src/si/metrics/rmse.py**\n",
    "\n",
    "Para observar o exercício 7.2, ir verificar o ficheiro **src/si/models/knn_regressor**"
   ],
   "id": "7f842fa52426ed0"
  },
  {
   "metadata": {},
   "cell_type": "markdown",
   "source": [
    "# Exercicio 8)\n",
    "\n",
    "Para observar o exercício 8.1, ir verificar o ficheiro **src/si/models/lasso_regression.py**"
   ],
   "id": "7748f9ea24a13347"
  },
  {
   "metadata": {
    "ExecuteTime": {
     "end_time": "2024-12-24T15:58:41.660164Z",
     "start_time": "2024-12-24T15:58:41.617777Z"
    }
   },
   "cell_type": "code",
   "source": [
    "from si.models.lasso_regression import LassoRegression\n",
    "\n",
    "lasso_regression = LassoRegression()\n",
    "lasso_regression._fit(dataset)\n"
   ],
   "id": "e29ede677a1cc57",
   "outputs": [
    {
     "ename": "TypeError",
     "evalue": "unsupported operand type(s) for -: 'str' and 'float'",
     "output_type": "error",
     "traceback": [
      "\u001B[1;31m---------------------------------------------------------------------------\u001B[0m",
      "\u001B[1;31mTypeError\u001B[0m                                 Traceback (most recent call last)",
      "Cell \u001B[1;32mIn[4], line 4\u001B[0m\n\u001B[0;32m      1\u001B[0m \u001B[38;5;28;01mfrom\u001B[39;00m \u001B[38;5;21;01msi\u001B[39;00m\u001B[38;5;21;01m.\u001B[39;00m\u001B[38;5;21;01mmodels\u001B[39;00m\u001B[38;5;21;01m.\u001B[39;00m\u001B[38;5;21;01mlasso_regression\u001B[39;00m \u001B[38;5;28;01mimport\u001B[39;00m LassoRegression\n\u001B[0;32m      3\u001B[0m lasso_regression \u001B[38;5;241m=\u001B[39m LassoRegression()\n\u001B[1;32m----> 4\u001B[0m \u001B[43mlasso_regression\u001B[49m\u001B[38;5;241;43m.\u001B[39;49m\u001B[43m_fit\u001B[49m\u001B[43m(\u001B[49m\u001B[43mdataset\u001B[49m\u001B[43m)\u001B[49m\n",
      "File \u001B[1;32m~\\PycharmProjects\\Mestrado\\SI_ML\\Sistemas_Inteligentes_ML\\si\\src\\si\\models\\lasso_regression.py:74\u001B[0m, in \u001B[0;36mLassoRegression._fit\u001B[1;34m(self, dataset)\u001B[0m\n\u001B[0;32m     71\u001B[0m predictions \u001B[38;5;241m=\u001B[39m np\u001B[38;5;241m.\u001B[39mdot(X_scaled, \u001B[38;5;28mself\u001B[39m\u001B[38;5;241m.\u001B[39mtheta) \u001B[38;5;241m+\u001B[39m \u001B[38;5;28mself\u001B[39m\u001B[38;5;241m.\u001B[39mtheta_zero\n\u001B[0;32m     73\u001B[0m \u001B[38;5;28;01mfor\u001B[39;00m j \u001B[38;5;129;01min\u001B[39;00m \u001B[38;5;28mrange\u001B[39m(n):\n\u001B[1;32m---> 74\u001B[0m     residual \u001B[38;5;241m=\u001B[39m np\u001B[38;5;241m.\u001B[39mdot(X_scaled[:, j], \u001B[43mdataset\u001B[49m\u001B[38;5;241;43m.\u001B[39;49m\u001B[43my\u001B[49m\u001B[43m \u001B[49m\u001B[38;5;241;43m-\u001B[39;49m\u001B[43m \u001B[49m\u001B[43m(\u001B[49m\u001B[43mpredictions\u001B[49m\u001B[43m \u001B[49m\u001B[38;5;241;43m-\u001B[39;49m\u001B[43m \u001B[49m\u001B[38;5;28;43mself\u001B[39;49m\u001B[38;5;241;43m.\u001B[39;49m\u001B[43mtheta\u001B[49m\u001B[43m[\u001B[49m\u001B[43mj\u001B[49m\u001B[43m]\u001B[49m\u001B[43m \u001B[49m\u001B[38;5;241;43m*\u001B[39;49m\u001B[43m \u001B[49m\u001B[43mX_scaled\u001B[49m\u001B[43m[\u001B[49m\u001B[43m:\u001B[49m\u001B[43m,\u001B[49m\u001B[43m \u001B[49m\u001B[43mj\u001B[49m\u001B[43m]\u001B[49m\u001B[43m)\u001B[49m)\n\u001B[0;32m     76\u001B[0m     \u001B[38;5;28;01mif\u001B[39;00m residual \u001B[38;5;241m<\u001B[39m \u001B[38;5;241m-\u001B[39m\u001B[38;5;28mself\u001B[39m\u001B[38;5;241m.\u001B[39ml1_penalty:\n\u001B[0;32m     77\u001B[0m         \u001B[38;5;28mself\u001B[39m\u001B[38;5;241m.\u001B[39mtheta[j] \u001B[38;5;241m=\u001B[39m (residual \u001B[38;5;241m+\u001B[39m \u001B[38;5;28mself\u001B[39m\u001B[38;5;241m.\u001B[39ml1_penalty) \u001B[38;5;241m/\u001B[39m np\u001B[38;5;241m.\u001B[39msum(X_scaled[:, j] \u001B[38;5;241m*\u001B[39m\u001B[38;5;241m*\u001B[39m \u001B[38;5;241m2\u001B[39m)\n",
      "\u001B[1;31mTypeError\u001B[0m: unsupported operand type(s) for -: 'str' and 'float'"
     ]
    }
   ],
   "execution_count": 4
  },
  {
   "metadata": {},
   "cell_type": "markdown",
   "source": [
    "# Exercício 9)\n",
    "Para verificar o exercício 9.1, ir verificar o ficheiro rc/si/models/random_forest_classifier.py"
   ],
   "id": "64fe770d5cd542b3"
  }
 ],
 "metadata": {
  "kernelspec": {
   "display_name": "Python 3",
   "language": "python",
   "name": "python3"
  },
  "language_info": {
   "codemirror_mode": {
    "name": "ipython",
    "version": 2
   },
   "file_extension": ".py",
   "mimetype": "text/x-python",
   "name": "python",
   "nbconvert_exporter": "python",
   "pygments_lexer": "ipython2",
   "version": "2.7.6"
  }
 },
 "nbformat": 4,
 "nbformat_minor": 5
}
