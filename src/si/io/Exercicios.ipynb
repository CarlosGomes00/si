{
 "cells": [
  {
   "metadata": {},
   "cell_type": "markdown",
   "source": "# Exercicio 1",
   "id": "c70c8814172fb1ba"
  },
  {
   "metadata": {
    "ExecuteTime": {
     "end_time": "2024-09-30T14:08:35.677756Z",
     "start_time": "2024-09-30T14:08:32.699164Z"
    }
   },
   "cell_type": "code",
   "source": [
    "import pandas as pd\n",
    "\n",
    "from csv_file import *\n",
    "from data_file import *"
   ],
   "id": "b0657572a8920d3d",
   "outputs": [],
   "execution_count": 2
  },
  {
   "metadata": {},
   "cell_type": "markdown",
   "source": "1.1) In this exercise, we will use the iris dataset. Load the \"iris.csv\" using the appropriate method for this file type (use the new functions from the package).",
   "id": "46032e82d38a1881"
  },
  {
   "metadata": {
    "ExecuteTime": {
     "end_time": "2024-09-30T14:26:28.896927Z",
     "start_time": "2024-09-30T14:26:28.864406Z"
    }
   },
   "cell_type": "code",
   "source": [
    "data_exerc = pd.read_csv('iris.csv')\n",
    "\n",
    "data_exerc.head()"
   ],
   "id": "4ba220977a33ac18",
   "outputs": [
    {
     "data": {
      "text/plain": [
       "   sepal_length  sepal_width  petal_length  petal_width        class\n",
       "0           5.1          3.5           1.4          0.2  Iris-setosa\n",
       "1           4.9          3.0           1.4          0.2  Iris-setosa\n",
       "2           4.7          3.2           1.3          0.2  Iris-setosa\n",
       "3           4.6          3.1           1.5          0.2  Iris-setosa\n",
       "4           5.0          3.6           1.4          0.2  Iris-setosa"
      ],
      "text/html": [
       "<div>\n",
       "<style scoped>\n",
       "    .dataframe tbody tr th:only-of-type {\n",
       "        vertical-align: middle;\n",
       "    }\n",
       "\n",
       "    .dataframe tbody tr th {\n",
       "        vertical-align: top;\n",
       "    }\n",
       "\n",
       "    .dataframe thead th {\n",
       "        text-align: right;\n",
       "    }\n",
       "</style>\n",
       "<table border=\"1\" class=\"dataframe\">\n",
       "  <thead>\n",
       "    <tr style=\"text-align: right;\">\n",
       "      <th></th>\n",
       "      <th>sepal_length</th>\n",
       "      <th>sepal_width</th>\n",
       "      <th>petal_length</th>\n",
       "      <th>petal_width</th>\n",
       "      <th>class</th>\n",
       "    </tr>\n",
       "  </thead>\n",
       "  <tbody>\n",
       "    <tr>\n",
       "      <th>0</th>\n",
       "      <td>5.1</td>\n",
       "      <td>3.5</td>\n",
       "      <td>1.4</td>\n",
       "      <td>0.2</td>\n",
       "      <td>Iris-setosa</td>\n",
       "    </tr>\n",
       "    <tr>\n",
       "      <th>1</th>\n",
       "      <td>4.9</td>\n",
       "      <td>3.0</td>\n",
       "      <td>1.4</td>\n",
       "      <td>0.2</td>\n",
       "      <td>Iris-setosa</td>\n",
       "    </tr>\n",
       "    <tr>\n",
       "      <th>2</th>\n",
       "      <td>4.7</td>\n",
       "      <td>3.2</td>\n",
       "      <td>1.3</td>\n",
       "      <td>0.2</td>\n",
       "      <td>Iris-setosa</td>\n",
       "    </tr>\n",
       "    <tr>\n",
       "      <th>3</th>\n",
       "      <td>4.6</td>\n",
       "      <td>3.1</td>\n",
       "      <td>1.5</td>\n",
       "      <td>0.2</td>\n",
       "      <td>Iris-setosa</td>\n",
       "    </tr>\n",
       "    <tr>\n",
       "      <th>4</th>\n",
       "      <td>5.0</td>\n",
       "      <td>3.6</td>\n",
       "      <td>1.4</td>\n",
       "      <td>0.2</td>\n",
       "      <td>Iris-setosa</td>\n",
       "    </tr>\n",
       "  </tbody>\n",
       "</table>\n",
       "</div>"
      ]
     },
     "execution_count": 20,
     "metadata": {},
     "output_type": "execute_result"
    }
   ],
   "execution_count": 20
  },
  {
   "metadata": {},
   "cell_type": "markdown",
   "source": "1.2) Select the penultimate independent variable. What is the dimension of the resulting array?",
   "id": "5a41e983df69c023"
  },
  {
   "metadata": {
    "ExecuteTime": {
     "end_time": "2024-09-30T14:15:10.254500Z",
     "start_time": "2024-09-30T14:15:10.238179Z"
    }
   },
   "cell_type": "code",
   "source": [
    "data_exerc.head()\n",
    "\n",
    "petal_lenght = data_exerc.iloc[:,-2]\n",
    "\n",
    "print(petal_lenght.shape)"
   ],
   "id": "387bca888977831e",
   "outputs": [
    {
     "name": "stdout",
     "output_type": "stream",
     "text": [
      "(150,)\n"
     ]
    }
   ],
   "execution_count": 16
  },
  {
   "metadata": {},
   "cell_type": "markdown",
   "source": [
    "1.3) Select the last 10 samples from the iris dataset.\n",
    "What is the mean of the last 10 samples for each\n",
    "independent variable/feature?"
   ],
   "id": "4bfde5f604195a74"
  },
  {
   "metadata": {
    "ExecuteTime": {
     "end_time": "2024-09-30T14:27:15.848Z",
     "start_time": "2024-09-30T14:27:15.824769Z"
    }
   },
   "cell_type": "code",
   "source": [
    "data_exerc_no_lcolumn = data_exerc.drop(columns=['class'])\n",
    "\n",
    "ultimas_linhas = data_exerc_no_lcolumn.tail(10)\n",
    "\n",
    "ultimas_linhas.mean()"
   ],
   "id": "7223ddf82ede26e9",
   "outputs": [
    {
     "data": {
      "text/plain": [
       "sepal_length    6.45\n",
       "sepal_width     3.03\n",
       "petal_length    5.33\n",
       "petal_width     2.17\n",
       "dtype: float64"
      ]
     },
     "execution_count": 23,
     "metadata": {},
     "output_type": "execute_result"
    }
   ],
   "execution_count": 23
  },
  {
   "metadata": {},
   "cell_type": "markdown",
   "source": "1.4) Select all samples from the dataset with values less than or equal to 6 for all independent variables/features. How many samples do you obtain?",
   "id": "e26efabee612f0d4"
  },
  {
   "metadata": {
    "ExecuteTime": {
     "end_time": "2024-09-30T14:48:39.039582Z",
     "start_time": "2024-09-30T14:48:39.023599Z"
    }
   },
   "cell_type": "code",
   "source": [
    "filtro = (data_exerc_no_lcolumn > 6)\n",
    "\n",
    "filtro.sum()\n",
    "\n",
    "# Obtêm-se 60 samples"
   ],
   "id": "12b9af2a661154e1",
   "outputs": [
    {
     "data": {
      "text/plain": [
       "sepal_length    61\n",
       "sepal_width      0\n",
       "petal_length     9\n",
       "petal_width      0\n",
       "dtype: int64"
      ]
     },
     "execution_count": 29,
     "metadata": {},
     "output_type": "execute_result"
    }
   ],
   "execution_count": 29
  },
  {
   "metadata": {},
   "cell_type": "markdown",
   "source": "1.5) Select all samples with a class/label different from 'Iris-setosa'. How many samples do you obtain?",
   "id": "6d7ce6f6d0140df7"
  },
  {
   "metadata": {
    "ExecuteTime": {
     "end_time": "2024-09-30T14:59:12.693852Z",
     "start_time": "2024-09-30T14:59:12.680634Z"
    }
   },
   "cell_type": "code",
   "source": [
    "no_iris = data_exerc.iloc[:,-1] != 'Iris-setosa'\n",
    "\n",
    "no_iris.sum()\n",
    "\n",
    "# Obtem-se 100 samples que não contenham Iris-Setosa"
   ],
   "id": "504a64853bd6cb72",
   "outputs": [
    {
     "data": {
      "text/plain": [
       "100"
      ]
     },
     "execution_count": 39,
     "metadata": {},
     "output_type": "execute_result"
    }
   ],
   "execution_count": 39
  },
  {
   "metadata": {},
   "cell_type": "markdown",
   "source": "2) Verificar si.data.dataset",
   "id": "d6fdb9333c944569"
  }
 ],
 "metadata": {
  "kernelspec": {
   "display_name": "Python 3",
   "language": "python",
   "name": "python3"
  },
  "language_info": {
   "codemirror_mode": {
    "name": "ipython",
    "version": 2
   },
   "file_extension": ".py",
   "mimetype": "text/x-python",
   "name": "python",
   "nbconvert_exporter": "python",
   "pygments_lexer": "ipython2",
   "version": "2.7.6"
  }
 },
 "nbformat": 4,
 "nbformat_minor": 5
}
