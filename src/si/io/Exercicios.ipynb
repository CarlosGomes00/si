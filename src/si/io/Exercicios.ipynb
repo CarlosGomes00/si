{
 "cells": [
  {
   "metadata": {},
   "cell_type": "markdown",
   "source": "# Exercicio 1",
   "id": "c70c8814172fb1ba"
  },
  {
   "metadata": {
    "ExecuteTime": {
     "end_time": "2024-12-06T22:18:17.846210Z",
     "start_time": "2024-12-06T22:18:17.413353Z"
    }
   },
   "cell_type": "code",
   "source": [
    "import pandas as pd\n",
    "\n",
    "from csv_file import *\n",
    "from data_file import *\n",
    "from si.decomposition.pca import PCA"
   ],
   "id": "b0657572a8920d3d",
   "outputs": [],
   "execution_count": 2
  },
  {
   "metadata": {},
   "cell_type": "markdown",
   "source": "1.1) In this exercise, we will use the iris dataset. Load the \"iris.csv\" using the appropriate method for this file type (use the new functions from the package).",
   "id": "46032e82d38a1881"
  },
  {
   "metadata": {
    "ExecuteTime": {
     "end_time": "2024-09-30T14:26:28.896927Z",
     "start_time": "2024-09-30T14:26:28.864406Z"
    }
   },
   "cell_type": "code",
   "source": [
    "data_exerc = pd.read_csv('iris.csv')\n",
    "\n",
    "data_exerc.head()"
   ],
   "id": "4ba220977a33ac18",
   "execution_count": 20,
   "outputs": []
  },
  {
   "metadata": {},
   "cell_type": "markdown",
   "source": "1.2) Select the penultimate independent variable. What is the dimension of the resulting array?",
   "id": "5a41e983df69c023"
  },
  {
   "metadata": {
    "ExecuteTime": {
     "end_time": "2024-09-30T14:15:10.254500Z",
     "start_time": "2024-09-30T14:15:10.238179Z"
    }
   },
   "cell_type": "code",
   "source": [
    "data_exerc.head()\n",
    "\n",
    "petal_lenght = data_exerc.iloc[:,-2]\n",
    "\n",
    "print(petal_lenght.shape)"
   ],
   "id": "387bca888977831e",
   "execution_count": 16,
   "outputs": []
  },
  {
   "metadata": {},
   "cell_type": "markdown",
   "source": [
    "1.3) Select the last 10 samples from the iris dataset.\n",
    "What is the mean of the last 10 samples for each\n",
    "independent variable/feature?"
   ],
   "id": "4bfde5f604195a74"
  },
  {
   "metadata": {
    "ExecuteTime": {
     "end_time": "2024-09-30T14:27:15.848Z",
     "start_time": "2024-09-30T14:27:15.824769Z"
    }
   },
   "cell_type": "code",
   "source": [
    "data_exerc_no_lcolumn = data_exerc.drop(columns=['class'])\n",
    "\n",
    "ultimas_linhas = data_exerc_no_lcolumn.tail(10)\n",
    "\n",
    "ultimas_linhas.mean()"
   ],
   "id": "7223ddf82ede26e9",
   "execution_count": 23,
   "outputs": []
  },
  {
   "metadata": {},
   "cell_type": "markdown",
   "source": "1.4) Select all samples from the dataset with values less than or equal to 6 for all independent variables/features. How many samples do you obtain?",
   "id": "e26efabee612f0d4"
  },
  {
   "metadata": {
    "ExecuteTime": {
     "end_time": "2024-09-30T14:48:39.039582Z",
     "start_time": "2024-09-30T14:48:39.023599Z"
    }
   },
   "cell_type": "code",
   "source": [
    "filtro = (data_exerc_no_lcolumn > 6)\n",
    "\n",
    "filtro.sum()\n",
    "\n",
    "# Obtêm-se 60 samples"
   ],
   "id": "12b9af2a661154e1",
   "execution_count": 29,
   "outputs": []
  },
  {
   "metadata": {},
   "cell_type": "markdown",
   "source": "1.5) Select all samples with a class/label different from 'Iris-setosa'. How many samples do you obtain?",
   "id": "6d7ce6f6d0140df7"
  },
  {
   "metadata": {
    "ExecuteTime": {
     "end_time": "2024-09-30T14:59:12.693852Z",
     "start_time": "2024-09-30T14:59:12.680634Z"
    }
   },
   "cell_type": "code",
   "source": [
    "no_iris = data_exerc.iloc[:,-1] != 'Iris-setosa'\n",
    "\n",
    "no_iris.sum()\n",
    "\n",
    "# Obtem-se 100 samples que não contenham Iris-Setosa"
   ],
   "id": "504a64853bd6cb72",
   "execution_count": 39,
   "outputs": []
  },
  {
   "metadata": {},
   "cell_type": "markdown",
   "source": [
    "# Exercicio 2) \n",
    "Para observar o exercício 2, ir verificar o ficheiro **src/si/data/dataset.py**"
   ],
   "id": "d6fdb9333c944569"
  },
  {
   "metadata": {},
   "cell_type": "markdown",
   "source": [
    "# Exercicio 3)\n",
    "Para observar o exercício 3, ir verificar o ficheiro **src/si/feature_selection/select_percentile.py**\n",
    "\n",
    "3.3) Test the SelectPercentile class in a Jupyter notebook using the \"iris.csv\" dataset (classification)."
   ],
   "id": "718335e84a30e2ca"
  },
  {
   "metadata": {},
   "cell_type": "code",
   "outputs": [],
   "execution_count": null,
   "source": [
    "import pandas as pd\n",
    "from si.feature_selection.select_percentile import SelectPercentile\n",
    "\n",
    "dataset_path = 'C:/Users/carla/PycharmProjects/Mestrado/SI_ML/Sistemas_Inteligentes_ML/si/datasets/iris/iris.csv'"
   ],
   "id": "7b35c654d1ef8be0"
  },
  {
   "metadata": {},
   "cell_type": "markdown",
   "source": [
    "# Exercicio 4) \n",
    "Para observar o exercício 4, ir verificar o ficheiro **src/si/statistics/cosine_distance.py**"
   ],
   "id": "60286c3f426c11bc"
  },
  {
   "metadata": {},
   "cell_type": "markdown",
   "source": [
    "# Exercicio 5)\n",
    "Para observar o exercício 5.1, ir verificar o ficheiro **src/si/decomposition/pca.py**\n",
    "\n",
    "5.2) Test the PCA class in a jupyter notebook using the iris.csv dataset (classificação)."
   ],
   "id": "7d8abb4e406f6a05"
  },
  {
   "metadata": {
    "ExecuteTime": {
     "end_time": "2024-12-06T23:41:26.705284Z",
     "start_time": "2024-12-06T23:41:26.664160Z"
    }
   },
   "cell_type": "code",
   "source": [
    "import pandas as pd\n",
    "from si.decomposition.pca import PCA\n",
    "\n",
    "dataset_path = 'C:/Users/carla/PycharmProjects/Mestrado/SI_ML/Sistemas_Inteligentes_ML/si/datasets/iris/iris.csv'\n",
    "\n",
    "dataset = pd.read_csv(dataset_path)\n",
    "\n",
    "pca = PCA(n_components=2)\n",
    "pca._fit(dataset)\n",
    "pca._transform(dataset)\n",
    "\n"
   ],
   "id": "be7a30e97fb82191",
   "outputs": [
    {
     "ename": "AttributeError",
     "evalue": "'DataFrame' object has no attribute 'X'",
     "output_type": "error",
     "traceback": [
      "\u001B[1;31m---------------------------------------------------------------------------\u001B[0m",
      "\u001B[1;31mAttributeError\u001B[0m                            Traceback (most recent call last)",
      "\u001B[1;32m~\\AppData\\Local\\Temp\\ipykernel_13676\\178165999.py\u001B[0m in \u001B[0;36m?\u001B[1;34m()\u001B[0m\n\u001B[0;32m      5\u001B[0m \u001B[1;33m\u001B[0m\u001B[0m\n\u001B[0;32m      6\u001B[0m \u001B[0mdataset\u001B[0m \u001B[1;33m=\u001B[0m \u001B[0mpd\u001B[0m\u001B[1;33m.\u001B[0m\u001B[0mread_csv\u001B[0m\u001B[1;33m(\u001B[0m\u001B[0mdataset_path\u001B[0m\u001B[1;33m)\u001B[0m\u001B[1;33m\u001B[0m\u001B[1;33m\u001B[0m\u001B[0m\n\u001B[0;32m      7\u001B[0m \u001B[1;33m\u001B[0m\u001B[0m\n\u001B[0;32m      8\u001B[0m \u001B[0mpca\u001B[0m \u001B[1;33m=\u001B[0m \u001B[0mPCA\u001B[0m\u001B[1;33m(\u001B[0m\u001B[0mn_components\u001B[0m\u001B[1;33m=\u001B[0m\u001B[1;36m2\u001B[0m\u001B[1;33m)\u001B[0m\u001B[1;33m\u001B[0m\u001B[1;33m\u001B[0m\u001B[0m\n\u001B[1;32m----> 9\u001B[1;33m \u001B[0mpca\u001B[0m\u001B[1;33m.\u001B[0m\u001B[0m_fit\u001B[0m\u001B[1;33m(\u001B[0m\u001B[0mdataset\u001B[0m\u001B[1;33m)\u001B[0m\u001B[1;33m\u001B[0m\u001B[1;33m\u001B[0m\u001B[0m\n\u001B[0m\u001B[0;32m     10\u001B[0m \u001B[0mpca\u001B[0m\u001B[1;33m.\u001B[0m\u001B[0m_transform\u001B[0m\u001B[1;33m(\u001B[0m\u001B[0mdataset\u001B[0m\u001B[1;33m)\u001B[0m\u001B[1;33m\u001B[0m\u001B[1;33m\u001B[0m\u001B[0m\n\u001B[0;32m     11\u001B[0m \u001B[1;33m\u001B[0m\u001B[0m\n\u001B[0;32m     12\u001B[0m \u001B[1;33m\u001B[0m\u001B[0m\n",
      "\u001B[1;32m~\\PycharmProjects\\Mestrado\\SI_ML\\Sistemas_Inteligentes_ML\\si\\src\\si\\decomposition\\pca.py\u001B[0m in \u001B[0;36m?\u001B[1;34m(self, dataset)\u001B[0m\n\u001B[0;32m     41\u001B[0m             \u001B[0mthe\u001B[0m \u001B[0mprincipal\u001B[0m \u001B[0mcomponents\u001B[0m \u001B[1;33m(\u001B[0m\u001B[0ma\u001B[0m \u001B[0mmatrix\u001B[0m \u001B[0mwhere\u001B[0m \u001B[0meach\u001B[0m \u001B[0mrow\u001B[0m \u001B[1;32mis\u001B[0m \u001B[0man\u001B[0m \u001B[0meigenvector\u001B[0m \u001B[0mcorresponding\u001B[0m \u001B[0mto\u001B[0m \u001B[0ma\u001B[0m \u001B[0mprincipal\u001B[0m \u001B[0mcomponent\u001B[0m\u001B[1;33m)\u001B[0m\u001B[1;33m\u001B[0m\u001B[1;33m\u001B[0m\u001B[0m\n\u001B[0;32m     42\u001B[0m         \u001B[0mexplained_variance\u001B[0m \u001B[1;33m=\u001B[0m \u001B[0mnp\u001B[0m\u001B[1;33m.\u001B[0m\u001B[0marray\u001B[0m\u001B[1;33m\u001B[0m\u001B[1;33m\u001B[0m\u001B[0m\n\u001B[0;32m     43\u001B[0m             \u001B[0mthe\u001B[0m \u001B[0mamount\u001B[0m \u001B[0mof\u001B[0m \u001B[0mvariance\u001B[0m \u001B[0mexplained\u001B[0m\u001B[1;33m\u001B[0m\u001B[1;33m\u001B[0m\u001B[0m\n\u001B[0;32m     44\u001B[0m         \"\"\"\n\u001B[1;32m---> 45\u001B[1;33m         \u001B[0msuper\u001B[0m\u001B[1;33m(\u001B[0m\u001B[1;33m)\u001B[0m\u001B[1;33m.\u001B[0m\u001B[0m__init__\u001B[0m\u001B[1;33m(\u001B[0m\u001B[1;33m**\u001B[0m\u001B[0mkwargs\u001B[0m\u001B[1;33m)\u001B[0m\u001B[1;33m\u001B[0m\u001B[1;33m\u001B[0m\u001B[0m\n\u001B[0m\u001B[0;32m     46\u001B[0m         \u001B[0mself\u001B[0m\u001B[1;33m.\u001B[0m\u001B[0mn_components\u001B[0m \u001B[1;33m=\u001B[0m \u001B[0mn_components\u001B[0m\u001B[1;33m\u001B[0m\u001B[1;33m\u001B[0m\u001B[0m\n\u001B[0;32m     47\u001B[0m         \u001B[0mself\u001B[0m\u001B[1;33m.\u001B[0m\u001B[0mmean\u001B[0m \u001B[1;33m=\u001B[0m \u001B[1;32mNone\u001B[0m\u001B[1;33m\u001B[0m\u001B[1;33m\u001B[0m\u001B[0m\n\u001B[0;32m     48\u001B[0m         \u001B[0mself\u001B[0m\u001B[1;33m.\u001B[0m\u001B[0mcomponents\u001B[0m \u001B[1;33m=\u001B[0m \u001B[1;32mNone\u001B[0m\u001B[1;33m\u001B[0m\u001B[1;33m\u001B[0m\u001B[0m\n",
      "\u001B[1;32m~\\PycharmProjects\\Mestrado\\SI_ML\\Sistemas_Inteligentes_ML\\.venv\\lib\\site-packages\\pandas\\core\\generic.py\u001B[0m in \u001B[0;36m?\u001B[1;34m(self, name)\u001B[0m\n\u001B[0;32m   6295\u001B[0m             \u001B[1;32mand\u001B[0m \u001B[0mname\u001B[0m \u001B[1;32mnot\u001B[0m \u001B[1;32min\u001B[0m \u001B[0mself\u001B[0m\u001B[1;33m.\u001B[0m\u001B[0m_accessors\u001B[0m\u001B[1;33m\u001B[0m\u001B[1;33m\u001B[0m\u001B[0m\n\u001B[0;32m   6296\u001B[0m             \u001B[1;32mand\u001B[0m \u001B[0mself\u001B[0m\u001B[1;33m.\u001B[0m\u001B[0m_info_axis\u001B[0m\u001B[1;33m.\u001B[0m\u001B[0m_can_hold_identifiers_and_holds_name\u001B[0m\u001B[1;33m(\u001B[0m\u001B[0mname\u001B[0m\u001B[1;33m)\u001B[0m\u001B[1;33m\u001B[0m\u001B[1;33m\u001B[0m\u001B[0m\n\u001B[0;32m   6297\u001B[0m         ):\n\u001B[0;32m   6298\u001B[0m             \u001B[1;32mreturn\u001B[0m \u001B[0mself\u001B[0m\u001B[1;33m[\u001B[0m\u001B[0mname\u001B[0m\u001B[1;33m]\u001B[0m\u001B[1;33m\u001B[0m\u001B[1;33m\u001B[0m\u001B[0m\n\u001B[1;32m-> 6299\u001B[1;33m         \u001B[1;32mreturn\u001B[0m \u001B[0mobject\u001B[0m\u001B[1;33m.\u001B[0m\u001B[0m__getattribute__\u001B[0m\u001B[1;33m(\u001B[0m\u001B[0mself\u001B[0m\u001B[1;33m,\u001B[0m \u001B[0mname\u001B[0m\u001B[1;33m)\u001B[0m\u001B[1;33m\u001B[0m\u001B[1;33m\u001B[0m\u001B[0m\n\u001B[0m",
      "\u001B[1;31mAttributeError\u001B[0m: 'DataFrame' object has no attribute 'X'"
     ]
    }
   ],
   "execution_count": 29
  }
 ],
 "metadata": {
  "kernelspec": {
   "display_name": "Python 3",
   "language": "python",
   "name": "python3"
  },
  "language_info": {
   "codemirror_mode": {
    "name": "ipython",
    "version": 2
   },
   "file_extension": ".py",
   "mimetype": "text/x-python",
   "name": "python",
   "nbconvert_exporter": "python",
   "pygments_lexer": "ipython2",
   "version": "2.7.6"
  }
 },
 "nbformat": 4,
 "nbformat_minor": 5
}
