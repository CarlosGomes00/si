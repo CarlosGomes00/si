{
 "cells": [
  {
   "cell_type": "raw",
   "source": [
    "SIB - P6\n",
    "A Jupyter Notebook with examples of how to use the decision tree model. 30/10/2023"
   ],
   "metadata": {
    "collapsed": false
   },
   "id": "788216614cddbd71"
  },
  {
   "cell_type": "code",
   "execution_count": 8,
   "source": [
    "from si.io.csv_file import read_csv\n",
    "from si.model_selection.split import train_test_split\n",
    "from si.models.decision_tree_classifier import DecisionTreeClassifier"
   ],
   "metadata": {
    "collapsed": false,
    "ExecuteTime": {
     "end_time": "2023-10-18T20:56:30.601581474Z",
     "start_time": "2023-10-18T20:56:30.558469560Z"
    }
   },
   "id": "d684c3fd34855db1",
   "outputs": []
  },
  {
   "cell_type": "code",
   "execution_count": 3,
   "source": [
    "data = read_csv('../datasets/iris/iris.csv', sep=',', features=True, label=True)\n",
    "data.X"
   ],
   "metadata": {
    "collapsed": false,
    "ExecuteTime": {
     "end_time": "2023-10-18T20:54:49.683243317Z",
     "start_time": "2023-10-18T20:54:49.672004233Z"
    }
   },
   "id": "e29382ca8d8fdb6f",
   "outputs": []
  },
  {
   "cell_type": "code",
   "execution_count": 4,
   "source": [
    "data.y"
   ],
   "metadata": {
    "collapsed": false,
    "ExecuteTime": {
     "end_time": "2023-10-18T20:54:57.075575571Z",
     "start_time": "2023-10-18T20:54:57.046538199Z"
    }
   },
   "id": "105ddbec961996f9",
   "outputs": []
  },
  {
   "cell_type": "code",
   "execution_count": 7,
   "source": [
    "train, test = train_test_split(data, test_size=0.15, random_state=42)\n",
    "train.shape(), test.shape()"
   ],
   "metadata": {
    "collapsed": false,
    "ExecuteTime": {
     "end_time": "2023-10-18T20:56:05.123593569Z",
     "start_time": "2023-10-18T20:56:05.117198698Z"
    }
   },
   "id": "5259450e11b68b05",
   "outputs": []
  },
  {
   "cell_type": "code",
   "execution_count": 9,
   "source": [
    "model = DecisionTreeClassifier(min_sample_split=3, max_depth=3, mode='gini')\n",
    "model.fit(train)"
   ],
   "metadata": {
    "collapsed": false,
    "ExecuteTime": {
     "end_time": "2023-10-18T20:56:34.783610205Z",
     "start_time": "2023-10-18T20:56:34.745361769Z"
    }
   },
   "id": "9e43b5b62079c048",
   "outputs": []
  },
  {
   "cell_type": "code",
   "execution_count": 10,
   "source": [
    "model.print_tree()"
   ],
   "metadata": {
    "collapsed": false,
    "ExecuteTime": {
     "end_time": "2023-10-18T20:56:48.767535005Z",
     "start_time": "2023-10-18T20:56:48.724222339Z"
    }
   },
   "id": "2a03baf733055a43",
   "outputs": []
  },
  {
   "cell_type": "code",
   "execution_count": 11,
   "source": [
    "print(model.score(test))"
   ],
   "metadata": {
    "collapsed": false,
    "ExecuteTime": {
     "end_time": "2023-10-18T20:57:15.835148077Z",
     "start_time": "2023-10-18T20:57:15.828254959Z"
    }
   },
   "id": "4746d9a5c382a9a",
   "outputs": []
  }
 ],
 "metadata": {
  "kernelspec": {
   "display_name": "Python 3",
   "language": "python",
   "name": "python3"
  },
  "language_info": {
   "codemirror_mode": {
    "name": "ipython",
    "version": 2
   },
   "file_extension": ".py",
   "mimetype": "text/x-python",
   "name": "python",
   "nbconvert_exporter": "python",
   "pygments_lexer": "ipython2",
   "version": "2.7.6"
  }
 },
 "nbformat": 4,
 "nbformat_minor": 5
}
