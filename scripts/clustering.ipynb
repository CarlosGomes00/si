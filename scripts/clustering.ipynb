{
 "cells": [
  {
   "cell_type": "markdown",
   "metadata": {
    "collapsed": false
   },
   "source": [
    "SIB - P3\n",
    "A Jupyter Notebook with examples of how to use the clustering objects. 02/10/2024"
   ]
  },
  {
   "cell_type": "code",
   "execution_count": 5,
   "metadata": {
    "ExecuteTime": {
     "end_time": "2023-10-11T13:57:37.002852916Z",
     "start_time": "2023-10-11T13:57:36.959749042Z"
    },
    "collapsed": false
   },
   "source": [
    "# imports\n",
    "import matplotlib.pylab as plt\n",
    "import numpy as np\n",
    "from si.io.csv_file import read_csv\n",
    "from si.clustering.kmeans import KMeans"
   ],
   "outputs": []
  },
  {
   "cell_type": "code",
   "execution_count": 6,
   "metadata": {
    "ExecuteTime": {
     "end_time": "2023-10-11T13:57:37.671695335Z",
     "start_time": "2023-10-11T13:57:37.666120957Z"
    },
    "collapsed": false
   },
   "source": [
    "# datasets\n",
    "iris_dataset = read_csv('../datasets/iris/iris.csv', features=True, label=True)"
   ],
   "outputs": []
  },
  {
   "cell_type": "code",
   "execution_count": 7,
   "metadata": {
    "ExecuteTime": {
     "end_time": "2023-10-11T13:57:38.248308566Z",
     "start_time": "2023-10-11T13:57:38.239812657Z"
    },
    "collapsed": false
   },
   "source": [
    "# kmeans\n",
    "k = 3\n",
    "kmeans = KMeans(k)\n",
    "distances = kmeans.fit_transform(iris_dataset)\n",
    "predictions = kmeans.predict(iris_dataset)\n",
    "predictions"
   ],
   "outputs": []
  },
  {
   "cell_type": "code",
   "execution_count": 8,
   "metadata": {
    "ExecuteTime": {
     "end_time": "2023-10-11T13:57:39.095313312Z",
     "start_time": "2023-10-11T13:57:39.017320912Z"
    },
    "collapsed": false
   },
   "source": [
    "# plotting\n",
    "for i in range(k):\n",
    "    k_sample = iris_dataset.X[np.where(predictions == i)]\n",
    "    plt.plot(k_sample[:, 0], k_sample[:, 1], 'o')\n",
    "    lines = plt.plot(kmeans.centroids[i, 0], kmeans.centroids[i, 1], 'kx')\n",
    "    plt.setp(lines, ms=15.0)\n",
    "    plt.setp(lines, mew=2.0)\n",
    "\n",
    "plt.show()"
   ],
   "outputs": []
  }
 ],
 "metadata": {
  "kernelspec": {
   "display_name": "Python 3",
   "language": "python",
   "name": "python3"
  },
  "language_info": {
   "codemirror_mode": {
    "name": "ipython",
    "version": 3
   },
   "file_extension": ".py",
   "mimetype": "text/x-python",
   "name": "python",
   "nbconvert_exporter": "python",
   "pygments_lexer": "ipython3",
   "version": "3.12.5"
  }
 },
 "nbformat": 4,
 "nbformat_minor": 0
}
