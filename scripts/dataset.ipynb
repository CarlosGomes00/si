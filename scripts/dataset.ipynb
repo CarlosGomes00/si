{
 "cells": [
  {
   "cell_type": "markdown",
   "source": [
    "## SIB - P1\n",
    "\n",
    "A Jupyter Notebook with examples of how to use the Dataset object.\n",
    "18/09/2023"
   ],
   "metadata": {
    "collapsed": false
   }
  },
  {
   "cell_type": "code",
   "execution_count": 2,
   "source": [
    "from si.data.dataset import Dataset\n",
    "import numpy as np\n",
    "\n",
    "# create a dataset\n",
    "X = np.random.rand(150, 30)\n",
    "y = np.random.randint(0, 2, 150)\n",
    "dataset = Dataset(X, y)\n",
    "dataset.shape()"
   ],
   "metadata": {
    "collapsed": false,
    "ExecuteTime": {
     "end_time": "2023-10-19T15:53:34.719840894Z",
     "start_time": "2023-10-19T15:53:34.505511564Z"
    }
   },
   "outputs": []
  },
  {
   "cell_type": "code",
   "execution_count": 3,
   "source": [
    "# get the X\n",
    "dataset.X"
   ],
   "metadata": {
    "collapsed": false,
    "ExecuteTime": {
     "end_time": "2023-10-19T15:53:34.868486821Z",
     "start_time": "2023-10-19T15:53:34.866701171Z"
    }
   },
   "outputs": []
  },
  {
   "cell_type": "code",
   "execution_count": 4,
   "source": [
    "#get the features names\n",
    "dataset.features"
   ],
   "metadata": {
    "collapsed": false,
    "ExecuteTime": {
     "end_time": "2023-10-19T15:53:35.584854129Z",
     "start_time": "2023-10-19T15:53:35.582157714Z"
    }
   },
   "outputs": []
  },
  {
   "cell_type": "code",
   "execution_count": 5,
   "source": [
    "# has label?\n",
    "dataset.has_label()"
   ],
   "metadata": {
    "collapsed": false,
    "ExecuteTime": {
     "end_time": "2023-10-19T15:53:36.083912445Z",
     "start_time": "2023-10-19T15:53:36.081271355Z"
    }
   },
   "outputs": []
  },
  {
   "cell_type": "code",
   "execution_count": 6,
   "source": [
    "# print the label\n",
    "dataset.y"
   ],
   "metadata": {
    "collapsed": false,
    "ExecuteTime": {
     "end_time": "2023-10-19T15:53:36.562401433Z",
     "start_time": "2023-10-19T15:53:36.559323045Z"
    }
   },
   "outputs": []
  },
  {
   "cell_type": "code",
   "execution_count": 7,
   "source": [
    "# get classes\n",
    "dataset.get_classes()"
   ],
   "metadata": {
    "collapsed": false,
    "ExecuteTime": {
     "end_time": "2023-10-19T15:53:37.302245295Z",
     "start_time": "2023-10-19T15:53:37.293490272Z"
    }
   },
   "outputs": []
  },
  {
   "cell_type": "code",
   "execution_count": 8,
   "source": [
    "# statistics summary\n",
    "dataset.summary()"
   ],
   "metadata": {
    "collapsed": false,
    "ExecuteTime": {
     "end_time": "2023-10-19T15:53:38.017542029Z",
     "start_time": "2023-10-19T15:53:37.989360932Z"
    }
   },
   "outputs": []
  },
  {
   "cell_type": "code",
   "execution_count": 9,
   "source": [
    "from si.io.data_file import read_data_file\n",
    "\n",
    "# read breast dataset from data file\n",
    "breast_dataset = read_data_file('../datasets/breast_bin/breast-bin.data', sep=',', label=True)\n",
    "breast_dataset.summary()"
   ],
   "metadata": {
    "collapsed": false,
    "ExecuteTime": {
     "end_time": "2023-10-19T15:53:38.923140192Z",
     "start_time": "2023-10-19T15:53:38.910461471Z"
    }
   },
   "outputs": []
  },
  {
   "cell_type": "code",
   "execution_count": 10,
   "source": [
    "breast_dataset.y"
   ],
   "metadata": {
    "collapsed": false,
    "ExecuteTime": {
     "end_time": "2023-10-19T15:53:39.636087276Z",
     "start_time": "2023-10-19T15:53:39.631785954Z"
    }
   },
   "outputs": []
  },
  {
   "cell_type": "code",
   "execution_count": 11,
   "source": [
    "print('Features', breast_dataset.features)\n",
    "print('Label', breast_dataset.label)"
   ],
   "metadata": {
    "collapsed": false,
    "ExecuteTime": {
     "end_time": "2023-10-19T15:53:40.477220774Z",
     "start_time": "2023-10-19T15:53:40.474177673Z"
    }
   },
   "outputs": []
  },
  {
   "cell_type": "code",
   "execution_count": 12,
   "source": [
    "# write the same fila with a different name\n",
    "from si.io.data_file import write_data_file\n",
    "write_data_file('../datasets/breast_bin/breast-bin_tabular.tsv', breast_dataset, sep='\\t', label=True)"
   ],
   "metadata": {
    "collapsed": false,
    "ExecuteTime": {
     "end_time": "2023-10-19T15:53:41.231429201Z",
     "start_time": "2023-10-19T15:53:41.223938119Z"
    }
   },
   "outputs": []
  },
  {
   "cell_type": "code",
   "execution_count": 13,
   "source": [
    "from si.io.csv_file import read_csv\n",
    "\n",
    "# read iris dataset from data file\n",
    "iris_dataset = read_csv('../datasets/iris/iris.csv', sep=',', features=True, label=True)\n",
    "iris_dataset.summary()"
   ],
   "metadata": {
    "collapsed": false,
    "ExecuteTime": {
     "end_time": "2023-10-19T15:53:42.022846758Z",
     "start_time": "2023-10-19T15:53:42.012184423Z"
    }
   },
   "outputs": []
  },
  {
   "cell_type": "code",
   "execution_count": 14,
   "source": [
    "iris_dataset.get_classes()"
   ],
   "metadata": {
    "collapsed": false,
    "ExecuteTime": {
     "end_time": "2023-10-19T15:53:42.828920156Z",
     "start_time": "2023-10-19T15:53:42.825380014Z"
    }
   },
   "outputs": []
  },
  {
   "cell_type": "code",
   "execution_count": 15,
   "source": [
    "# write the same file with a different name\n",
    "from si.io.csv_file import write_csv\n",
    "write_csv('../datasets/iris/iris_tabular.tsv', iris_dataset, sep='\\t', features=True, label=True)"
   ],
   "metadata": {
    "collapsed": false,
    "ExecuteTime": {
     "end_time": "2023-10-19T15:53:43.564778151Z",
     "start_time": "2023-10-19T15:53:43.552359602Z"
    }
   },
   "outputs": []
  },
  {
   "cell_type": "code",
   "execution_count": 16,
   "source": [
    "# random dataset\n",
    "from si.data.dataset import Dataset\n",
    "random_dataset = Dataset.from_random(150, 30, 4)\n",
    "random_dataset.get_classes()"
   ],
   "metadata": {
    "collapsed": false,
    "ExecuteTime": {
     "end_time": "2023-10-19T15:53:44.565601544Z",
     "start_time": "2023-10-19T15:53:44.556424210Z"
    }
   },
   "outputs": []
  },
  {
   "cell_type": "code",
   "execution_count": 17,
   "source": [
    "# from dataframe\n",
    "import numpy as np\n",
    "import pandas as pd\n",
    "\n",
    "df = pd.DataFrame(np.random.rand(150, 30))\n",
    "df_dataset = Dataset.from_dataframe(df)\n",
    "df_dataset.X"
   ],
   "metadata": {
    "collapsed": false,
    "ExecuteTime": {
     "end_time": "2023-10-19T15:53:45.532565246Z",
     "start_time": "2023-10-19T15:53:45.528428865Z"
    }
   },
   "outputs": []
  },
  {
   "cell_type": "code",
   "execution_count": 18,
   "source": [
    "df_dataset.has_label()"
   ],
   "metadata": {
    "collapsed": false,
    "ExecuteTime": {
     "end_time": "2023-10-19T15:53:46.706810490Z",
     "start_time": "2023-10-19T15:53:46.702968766Z"
    }
   },
   "outputs": []
  },
  {
   "cell_type": "code",
   "execution_count": 28,
   "source": [
    "df_w_nas = read_csv('../datasets/iris/iris_missing_data.csv', sep=',', features=True, label=True)\n",
    "df_w_nas.X"
   ],
   "metadata": {
    "collapsed": false,
    "ExecuteTime": {
     "end_time": "2023-10-19T15:56:24.635825645Z",
     "start_time": "2023-10-19T15:56:24.586771538Z"
    }
   },
   "outputs": []
  },
  {
   "cell_type": "code",
   "execution_count": 29,
   "source": [
    "from copy import copy\n",
    "\n",
    "df1 = copy(df_w_nas).dropna()\n",
    "df1.X"
   ],
   "metadata": {
    "collapsed": false,
    "ExecuteTime": {
     "end_time": "2023-10-19T15:56:25.539050972Z",
     "start_time": "2023-10-19T15:56:25.533895667Z"
    }
   },
   "outputs": []
  },
  {
   "cell_type": "code",
   "execution_count": 32,
   "source": [
    "df2 = copy(df_w_nas).fillna(0)\n",
    "df2.X"
   ],
   "metadata": {
    "collapsed": false,
    "ExecuteTime": {
     "end_time": "2023-10-19T15:56:42.911127302Z",
     "start_time": "2023-10-19T15:56:42.902903558Z"
    }
   },
   "outputs": []
  },
  {
   "cell_type": "code",
   "execution_count": 33,
   "source": [
    "df2.remove_by_index(0)\n",
    "df2.X"
   ],
   "metadata": {
    "collapsed": false,
    "ExecuteTime": {
     "end_time": "2023-10-19T15:57:06.352368506Z",
     "start_time": "2023-10-19T15:57:06.309050739Z"
    }
   },
   "outputs": []
  },
  {
   "cell_type": "code",
   "execution_count": null,
   "source": [],
   "metadata": {
    "collapsed": false
   },
   "outputs": []
  }
 ],
 "metadata": {
  "kernelspec": {
   "display_name": "Python 3",
   "language": "python",
   "name": "python3"
  },
  "language_info": {
   "codemirror_mode": {
    "name": "ipython",
    "version": 2
   },
   "file_extension": ".py",
   "mimetype": "text/x-python",
   "name": "python",
   "nbconvert_exporter": "python",
   "pygments_lexer": "ipython2",
   "version": "2.7.6"
  }
 },
 "nbformat": 4,
 "nbformat_minor": 0
}
