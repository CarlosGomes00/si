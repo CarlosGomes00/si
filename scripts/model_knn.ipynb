{
 "cells": [
  {
   "cell_type": "markdown",
   "source": [
    "SIB - P4\n",
    "A Jupyter Notebook with examples of how to use the knn model. 09/10/2023"
   ],
   "metadata": {
    "collapsed": false
   }
  },
  {
   "cell_type": "code",
   "execution_count": 1,
   "source": [
    "# imports\n",
    "from si.io.csv_file import read_csv\n",
    "from si.model_selection.split import train_test_split\n",
    "from si.models.knn_classifier import KNNClassifier"
   ],
   "metadata": {
    "collapsed": false,
    "ExecuteTime": {
     "end_time": "2023-10-11T13:58:23.326053330Z",
     "start_time": "2023-10-11T13:58:23.157529891Z"
    }
   },
   "outputs": []
  },
  {
   "cell_type": "code",
   "execution_count": 2,
   "source": [
    "# datasets\n",
    "iris_dataset = read_csv('../datasets/iris/iris.csv', features=True, label=True)"
   ],
   "metadata": {
    "collapsed": false,
    "ExecuteTime": {
     "end_time": "2023-10-11T13:58:27.082669588Z",
     "start_time": "2023-10-11T13:58:27.075580033Z"
    }
   },
   "outputs": []
  },
  {
   "cell_type": "code",
   "execution_count": 3,
   "source": [
    "# split dataset\n",
    "train_dataset, test_dataset = train_test_split(iris_dataset)\n",
    "test_dataset.X"
   ],
   "metadata": {
    "collapsed": false,
    "ExecuteTime": {
     "end_time": "2023-10-11T13:58:27.691827523Z",
     "start_time": "2023-10-11T13:58:27.684915788Z"
    }
   },
   "outputs": []
  },
  {
   "cell_type": "code",
   "execution_count": 4,
   "source": [
    "# knn classifier\n",
    "k = 2\n",
    "kmeans = KNNClassifier(k)\n",
    "kmeans.fit(train_dataset)\n",
    "predictions = kmeans.predict(test_dataset)\n",
    "predictions"
   ],
   "metadata": {
    "collapsed": false,
    "ExecuteTime": {
     "end_time": "2023-10-11T13:58:28.826244268Z",
     "start_time": "2023-10-11T13:58:28.813641934Z"
    }
   },
   "outputs": []
  },
  {
   "cell_type": "code",
   "execution_count": 5,
   "source": [
    "kmeans.score(test_dataset)"
   ],
   "metadata": {
    "collapsed": false,
    "ExecuteTime": {
     "end_time": "2023-10-11T13:58:30.086650845Z",
     "start_time": "2023-10-11T13:58:30.070966269Z"
    }
   },
   "outputs": []
  },
  {
   "cell_type": "code",
   "execution_count": null,
   "source": [],
   "metadata": {
    "collapsed": false
   },
   "outputs": []
  }
 ],
 "metadata": {
  "kernelspec": {
   "display_name": "Python 3",
   "language": "python",
   "name": "python3"
  },
  "language_info": {
   "codemirror_mode": {
    "name": "ipython",
    "version": 2
   },
   "file_extension": ".py",
   "mimetype": "text/x-python",
   "name": "python",
   "nbconvert_exporter": "python",
   "pygments_lexer": "ipython2",
   "version": "2.7.6"
  }
 },
 "nbformat": 4,
 "nbformat_minor": 0
}
