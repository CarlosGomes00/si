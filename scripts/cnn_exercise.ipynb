{
 "cells": [
  {
   "cell_type": "markdown",
   "source": [
    "# Exercise 18 - SIB - Portfolio of Machine Learning Algorithms"
   ],
   "metadata": {
    "collapsed": false
   },
   "id": "d33bf562067b9d7c"
  },
  {
   "cell_type": "code",
   "execution_count": 2,
   "source": [
    "import numpy as np\n",
    "import matplotlib.pyplot as plt\n",
    "import matplotlib.image as mpimg"
   ],
   "metadata": {
    "collapsed": false,
    "ExecuteTime": {
     "start_time": "2023-12-02T10:24:52.287618185Z"
    }
   },
   "id": "initial_id",
   "outputs": []
  },
  {
   "cell_type": "code",
   "execution_count": 9,
   "source": [
    "img = mpimg.imread('data/home.png')\n",
    "data = img.reshape(1,img.shape[0], img.shape[1], img.shape[2])\n",
    "\n",
    "\n",
    "print(type(img))\n",
    "print(\"Image dimension \",img.shape)\n",
    "print(\"Input data dimension \", data.shape)"
   ],
   "metadata": {
    "collapsed": false,
    "ExecuteTime": {
     "end_time": "2023-12-02T10:30:43.009526155Z",
     "start_time": "2023-12-02T10:30:42.964659977Z"
    }
   },
   "id": "a361c491871d5bca",
   "outputs": []
  },
  {
   "cell_type": "code",
   "execution_count": 5,
   "source": [
    "plt.imshow(data[0,:,:,:])\n",
    "plt.grid(False)\n",
    "plt.axis(\"off\")"
   ],
   "metadata": {
    "collapsed": false,
    "ExecuteTime": {
     "end_time": "2023-12-02T10:25:24.781343623Z",
     "start_time": "2023-12-02T10:25:24.635199967Z"
    }
   },
   "id": "27d0242d0c834c52",
   "outputs": []
  },
  {
   "cell_type": "markdown",
   "source": [
    "## *Exercise 18.1:*\n",
    "\n",
    "### Paddding\n",
    "\n",
    "Define method named pad_with_zeros that performs specified number of zero padding on the input data.\n",
    "- parameters:\n",
    "    - X: input data\n",
    "    - pad: number of zero padding\n",
    "- returns:\n",
    "    - data_padded: the nd-array after padding  "
   ],
   "metadata": {
    "collapsed": false
   },
   "id": "89cb0fe48cdcf253"
  },
  {
   "cell_type": "code",
   "execution_count": 12,
   "source": [
    "def pad_with_zeros(data: np.ndarray, pad: int) -> np.ndarray:\n",
    "    \"\"\"\n",
    "    Pad image with zeros. The padding is applied to the height and width of an image,\n",
    "    \n",
    "    Parameters\n",
    "    ----------\n",
    "    data: numpy array\n",
    "        input data\n",
    "    pad: int\n",
    "        number of zero padding\n",
    "\n",
    "    Returns\n",
    "    -------\n",
    "    data_padded: numpy array\n",
    "        the nd-array after padding\n",
    "    \"\"\"\n",
    "    # add code here\n",
    "    data_padded = ...\n",
    "    return data_padded"
   ],
   "metadata": {
    "collapsed": false,
    "ExecuteTime": {
     "end_time": "2023-12-02T11:12:07.289564512Z",
     "start_time": "2023-12-02T11:12:07.246840847Z"
    }
   },
   "id": "7eda8d8ed8c55bb9",
   "outputs": []
  },
  {
   "cell_type": "markdown",
   "source": [
    "Apply the zero_pad method to data:\n",
    "- expected output of \"pad_with_zeros(data, 10)[0,8:12,8:12,1]\":\n",
    "\n",
    "[[0. 0. 0. 0.]\n",
    "[0. 0. 0. 0.]\n",
    "[0. 0. 1. 1.]\n",
    "[0. 0. 1. 1.]]\n",
    " "
   ],
   "metadata": {
    "collapsed": false
   },
   "id": "48825e61694ce480"
  },
  {
   "cell_type": "code",
   "execution_count": 28,
   "source": [
    "print(\"dimension before padding: \", data.shape)\n",
    "img_pad = pad_with_zeros(data, 10)\n",
    "print(\"dimension after padding: \", img_pad.shape)\n",
    "print(img_pad[0,8:12,8:12,1]) # output should be the one above\n",
    "plt.imshow(img_pad[0,:,:,:], cmap = \"gray\")\n",
    "plt.grid(False)"
   ],
   "metadata": {
    "collapsed": false
   },
   "id": "c42473aedcfe33c4",
   "outputs": []
  },
  {
   "cell_type": "markdown",
   "source": [
    "## *Exercise 18.2:*\n",
    "\n",
    "### Convolution\n",
    "\n",
    "#### Single step convolution\n",
    "\n",
    "Define the function named single_step_convolution() to convolve a slice of input data using the specified filter.\n",
    "\n",
    "- parameters:\n",
    "\n",
    "   - data_slice: the slice of input data\n",
    "   - W: the filter used for convolution  \n",
    "   - b: the bias term\n",
    "     \n",
    "- returns:\n",
    "\n",
    "   - Z: the output of the convolution operation"
   ],
   "metadata": {
    "collapsed": false
   },
   "id": "5fb6fbb3b6650057"
  },
  {
   "cell_type": "code",
   "execution_count": 11,
   "source": [
    "def single_step_convolution(data_slice: np.ndarray, W: np.ndarray, b: np.ndarray) -> np.ndarray:\n",
    "    \"\"\"\n",
    "    Convolve a slice of input data using the specified filter and bias.\n",
    "    \n",
    "    Parameters\n",
    "    ----------\n",
    "    data_slice: numpy array\n",
    "        the slice of input data\n",
    "    W: numpy array\n",
    "        the filter used for convolution\n",
    "    b: numpy array\n",
    "        the bias term\n",
    "        \n",
    "    Returns\n",
    "    -------\n",
    "    Z: numpy array\n",
    "        the output of the convolution operation\n",
    "    \"\"\"\n",
    "    # add code here\n",
    "    # ...\n",
    "    return Z"
   ],
   "metadata": {
    "collapsed": false,
    "ExecuteTime": {
     "end_time": "2023-12-02T11:04:01.081343203Z",
     "start_time": "2023-12-02T11:04:01.037354775Z"
    }
   },
   "id": "5cffff0fca0618af",
   "outputs": []
  },
  {
   "cell_type": "markdown",
   "source": [
    "#### Strided convolution\n",
    "\n",
    "Strided convolution is a variation of the convolution operation in CNNs where the filter does not move one pixel at a time but skips a certain number of pixels, known as the stride, during each step of the convolution.\n",
    "\n",
    "Define method convolution_forward to perform strided convolution on the input data. Use single_step_convolution() to perform the convolution at each stride.\n",
    "\n",
    "- parameters:\n",
    "\n",
    "   - data: the input data\n",
    "   - W: the filter used for convolution\n",
    "   - b: the bias term\n",
    "   - stride: the stride used for convolution\n",
    "   - pad: the number of zero padding used for convolution\n",
    "  \n",
    "- returns:\n",
    "    - Z: the output of the convolution operation"
   ],
   "metadata": {
    "collapsed": false
   },
   "id": "f51de91defc14e49"
  },
  {
   "cell_type": "code",
   "execution_count": 30,
   "source": [
    "# show convolution gif\n",
    "from IPython.display import Image\n",
    "Image(url='data/convolution.gif')"
   ],
   "metadata": {
    "collapsed": false,
    "ExecuteTime": {
     "end_time": "2023-12-02T13:14:28.141739824Z",
     "start_time": "2023-12-02T13:14:28.096980393Z"
    }
   },
   "id": "3bbcc6ccede9e682",
   "outputs": []
  },
  {
   "cell_type": "code",
   "execution_count": 31,
   "source": [
    "# show stride gif\n",
    "Image(url='data/stride.gif')"
   ],
   "metadata": {
    "collapsed": false,
    "ExecuteTime": {
     "end_time": "2023-12-02T13:17:12.494488298Z",
     "start_time": "2023-12-02T13:17:12.424868806Z"
    }
   },
   "id": "540a1b93ecc69374",
   "outputs": []
  },
  {
   "cell_type": "code",
   "execution_count": 32,
   "source": [
    "def convolution_forward(data: np.ndarray, W: np.ndarray, b: np.ndarray, stride: int, pad: int) -> np.ndarray:\n",
    "    \"\"\"\n",
    "    Perform strided convolution on the input data.\n",
    "    \n",
    "    Parameters\n",
    "    ----------\n",
    "    data: numpy array\n",
    "        the input data\n",
    "    W: numpy array\n",
    "        the filter used for convolution\n",
    "    b: numpy array\n",
    "        the bias term\n",
    "    stride: int\n",
    "        the stride used for convolution\n",
    "    pad: int\n",
    "        the number of zero padding used for convolution\n",
    "\n",
    "    Returns\n",
    "    -------\n",
    "    Z: numpy array\n",
    "        the output of the convolution operation\n",
    "    \"\"\"\n",
    "    # dimensions are m (number of examples), h_prev (height), w_prev (width), c_prev (number of channels)\n",
    "    m, h_prev, w_prev, c_prev = data.shape\n",
    "    # dimensions are f1 (height of the filter), f2 (width of the filter), c_prev (number of channels), n_c (number of filters)\n",
    "    f1, f2, c_prev, n_c = W.shape\n",
    "      \n",
    "    # calculate the dimension of the output (n_h is the height of the output, n_w is the width of the output)\n",
    "    n_h = ...\n",
    "    n_w = ...\n",
    "      \n",
    "    # initialize the output Z with zeros (4 dimensions -> batch size, height, width, number of filters)\n",
    "    Z = np.zeros((..., ..., ..., ...))\n",
    "    # pad the input data\n",
    "    A_prev_pad = ...\n",
    "    for i in range(m):\n",
    "        for h in range(n_h):\n",
    "            for w in range(n_w):\n",
    "                for c in range(n_c):\n",
    "                    # find the slice of the input data to be convolved (take into account the stride and filter size (W))\n",
    "                    w_start = ...\n",
    "                    w_end = ...\n",
    "                    h_start = ...\n",
    "                    h_end = ...\n",
    "            \n",
    "                    Z[i,h,w,c] = single_step_convolution(A_prev_pad[i, h_start:h_end, w_start:w_end, :], W[:,:,:,c], b[:,:,:,c])\n",
    "    return Z"
   ],
   "metadata": {
    "collapsed": false,
    "ExecuteTime": {
     "end_time": "2023-12-02T13:22:21.008522039Z",
     "start_time": "2023-12-02T13:22:20.953277874Z"
    }
   },
   "id": "d9a3675f84c0429",
   "outputs": []
  },
  {
   "cell_type": "code",
   "execution_count": 33,
   "source": [
    "np.random.seed(1)\n",
    "# dimensions are 10 batch size, 4 height, 4 width, 3 channels\n",
    "input_ = np.random.randn(10, 4, 4, 3)\n",
    "# dimensions are 2 height, 2 width, 3 channels, 8 filters\n",
    "W = np.random.randn(2, 2, 3, 8)\n",
    "# dimensions are 1, 1, 1, 8, i.e. one bias per filter\n",
    "b = np.random.randn(1, 1, 1, 8)\n",
    "pad = 1\n",
    "stride = 1\n",
    "\n",
    "output_ = convolution_forward(input_, W, b, stride, pad)\n",
    "print(np.mean(output_))"
   ],
   "metadata": {
    "collapsed": false,
    "ExecuteTime": {
     "end_time": "2023-12-02T13:22:23.077020016Z",
     "start_time": "2023-12-02T13:22:23.037823829Z"
    }
   },
   "id": "c4a461344ab48f4a",
   "outputs": []
  },
  {
   "cell_type": "code",
   "execution_count": 34,
   "source": [
    "# edge detection filter\n",
    "edge_detect = np.array([[-1,-1,-1],[-1,8,-1],[-1,-1,-1]]).reshape((3,3,1,1))"
   ],
   "metadata": {
    "collapsed": false,
    "ExecuteTime": {
     "end_time": "2023-12-02T13:22:23.968010415Z",
     "start_time": "2023-12-02T13:22:23.963820438Z"
    }
   },
   "id": "f2c7ec671a05e17f",
   "outputs": []
  },
  {
   "cell_type": "code",
   "execution_count": 35,
   "source": [
    "pad = 0\n",
    "stride = 1\n",
    "b = np.zeros((1, 1, 1, 1))\n",
    "Z = convolution_forward(data, edge_detect, b, stride, pad)\n",
    "\n",
    "\n",
    "plt.clf()\n",
    "plt.imshow(Z[0,:,:,0], cmap='gray',vmin=0, vmax=1)\n",
    "plt.grid(False)\n",
    "print(\"dimension of image before convolution: \", data.shape)\n",
    "print(\"dimension of image after convolution: \", Z.shape)\n",
    "\n",
    "output2 = np.mean(Z[0,100:200,200:300,0])"
   ],
   "metadata": {
    "collapsed": false,
    "ExecuteTime": {
     "end_time": "2023-12-02T13:22:25.852057219Z",
     "start_time": "2023-12-02T13:22:24.854553421Z"
    }
   },
   "id": "f6671c44b50806b7",
   "outputs": []
  },
  {
   "cell_type": "code",
   "execution_count": 36,
   "source": [
    "# vetical filter for edge detection\n",
    "vertical_filter = np.array([[-1,2,-1],[-1,2,-1],[-1,2,-1]]).reshape(3,3,1,1)\n",
    "\n",
    "Z = convolution_forward(data, vertical_filter, b, stride, pad)\n",
    "plt.clf()\n",
    "plt.imshow(Z[0,:,:,0], cmap='gray',vmin=0, vmax=1)\n",
    "plt.grid(False)\n",
    "print(\"dimension of image before convolution: \", data.shape)\n",
    "print(\"dimension of image after convolution: \", Z.shape)"
   ],
   "metadata": {
    "collapsed": false,
    "ExecuteTime": {
     "end_time": "2023-12-02T13:22:34.845219419Z",
     "start_time": "2023-12-02T13:22:33.817675329Z"
    }
   },
   "id": "628159f768b8dc3d",
   "outputs": []
  },
  {
   "cell_type": "code",
   "execution_count": 37,
   "source": [
    "# horizontal filter for edge detection\n",
    "horizontal_filter = np.array([[-1,-1,-1],[2,2,2],[-1,-1,-1]]).reshape((3,3,1,1))\n",
    "Z = convolution_forward(data, horizontal_filter, b, stride, pad)\n",
    "plt.clf()\n",
    "plt.imshow(Z[0,:,:,0], cmap='gray',vmin=0, vmax=1)\n",
    "plt.grid(False)\n",
    "print(\"dimension of image before convolution: \", data.shape)\n",
    "print(\"dimension of image after convolution: \", Z.shape)"
   ],
   "metadata": {
    "collapsed": false,
    "ExecuteTime": {
     "end_time": "2023-12-02T13:22:35.884824740Z",
     "start_time": "2023-12-02T13:22:34.832669677Z"
    }
   },
   "id": "e50a50c66d5c91e9",
   "outputs": []
  },
  {
   "cell_type": "markdown",
   "source": [
    "## *Exercise 18.3:*\n",
    "\n",
    "### Pooling\n",
    "\n",
    "#### Max pooling\n",
    "\n",
    "Define method max_pooling to perform max pooling on the input data.\n",
    "\n",
    "- parameters:\n",
    "\n",
    "    - data: input data on which convolution is performed  \n",
    "    - f: filter size \n",
    "    - stride: the number of strides\n",
    "    \n",
    "- returns:\n",
    "    - Z: the output of the max pooling operation"
   ],
   "metadata": {
    "collapsed": false
   },
   "id": "b21bc23a57e1ad72"
  },
  {
   "cell_type": "code",
   "execution_count": 45,
   "source": [
    "Image(url='data/maxpool.gif')"
   ],
   "metadata": {
    "collapsed": false,
    "ExecuteTime": {
     "end_time": "2023-12-03T09:19:54.678223650Z",
     "start_time": "2023-12-03T09:19:54.610639082Z"
    }
   },
   "id": "2151feca2bc0502f",
   "outputs": []
  },
  {
   "cell_type": "code",
   "execution_count": 41,
   "source": [
    "def max_pooling(input: np.ndarray, f: int, stride: int) -> np.ndarray:\n",
    "    \"\"\"\n",
    "    Perform max pooling on the input data.\n",
    "    \n",
    "    Parameters\n",
    "    ----------\n",
    "    input: numpy array\n",
    "        input data on which convolution is performed\n",
    "    f: int\n",
    "        filter size\n",
    "    stride: int\n",
    "        the number of strides\n",
    "\n",
    "    Returns\n",
    "    -------\n",
    "    output: numpy array\n",
    "        the output of the max pooling operation\n",
    "    \"\"\"\n",
    "    m, h_prev, w_prev, c_prev = input.shape\n",
    "    # calculate the dimension of the output (h_out is the height of the output, w_out is the width of the output)\n",
    "    h_out = ...\n",
    "    w_out = ...\n",
    "    # initialize the output Z with zeros (4 dimensions -> batch size, height, width, number of channels)\n",
    "    output = np.zeros((..., ..., ..., ...))\n",
    "    for i in range(m):\n",
    "        for c in range(c_prev):\n",
    "            for h in range(h_out):\n",
    "                for w in range(w_out):\n",
    "                    # find the slice of the input data to be pooled (take into account the stride and filter size (f))\n",
    "                    w_start = ...\n",
    "                    w_end = ...\n",
    "                    h_start = ...\n",
    "                    h_end = ...\n",
    "                    output[i, h, w, c] = np.max(input[i,h_start:h_end, w_start:w_end, c])\n",
    "    assert output.shape == (m, h_out, w_out, c_prev)\n",
    "    return output"
   ],
   "metadata": {
    "collapsed": false,
    "ExecuteTime": {
     "end_time": "2023-12-02T13:26:50.744504906Z",
     "start_time": "2023-12-02T13:26:50.730631358Z"
    }
   },
   "id": "5cfd472a21f710f7",
   "outputs": []
  },
  {
   "cell_type": "code",
   "execution_count": 42,
   "source": [
    "f = 2\n",
    "stride = 2\n",
    "output_ = max_pooling(input_, f, stride)\n",
    "print(np.mean(output_))"
   ],
   "metadata": {
    "collapsed": false,
    "ExecuteTime": {
     "end_time": "2023-12-02T13:26:51.106493106Z",
     "start_time": "2023-12-02T13:26:51.100888079Z"
    }
   },
   "id": "860a080fa125927f",
   "outputs": []
  },
  {
   "cell_type": "code",
   "execution_count": 43,
   "source": [
    "stride = 1 \n",
    "f = 2\n",
    "Z_pool =  max_pooling(input_, f, stride)\n",
    "###End code\n",
    "\n",
    "print(\"dimension before pooling :\", Z.shape)\n",
    "print(\"dimension after pooling :\", Z_pool.shape)\n",
    "\n",
    "plt.imshow(Z_pool[0,:,:,0], cmap = \"gray\")"
   ],
   "metadata": {
    "collapsed": false,
    "ExecuteTime": {
     "end_time": "2023-12-02T13:26:58.313643701Z",
     "start_time": "2023-12-02T13:26:58.131823455Z"
    }
   },
   "id": "1d6197fcc8f0cfee",
   "outputs": []
  },
  {
   "cell_type": "code",
   "execution_count": null,
   "source": [],
   "metadata": {
    "collapsed": false
   },
   "id": "b3e0f97c70ecd6da",
   "outputs": []
  }
 ],
 "metadata": {
  "kernelspec": {
   "display_name": "Python 3",
   "language": "python",
   "name": "python3"
  },
  "language_info": {
   "codemirror_mode": {
    "name": "ipython",
    "version": 2
   },
   "file_extension": ".py",
   "mimetype": "text/x-python",
   "name": "python",
   "nbconvert_exporter": "python",
   "pygments_lexer": "ipython2",
   "version": "2.7.6"
  }
 },
 "nbformat": 4,
 "nbformat_minor": 5
}
