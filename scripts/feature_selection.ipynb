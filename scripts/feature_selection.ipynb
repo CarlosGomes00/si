{
 "cells": [
  {
   "cell_type": "markdown",
   "source": [
    "## SIB - P2\n",
    "\n",
    "A Jupyter Notebook with examples of how to use the feature selection objects.\n",
    "25/09/2023"
   ],
   "metadata": {
    "collapsed": false
   }
  },
  {
   "cell_type": "code",
   "execution_count": 1,
   "source": [
    "# imports\n",
    "from si.io.csv_file import read_csv\n",
    "from si.data.dataset import Dataset\n",
    "from si.feature_selection.variance_threshold import VarianceThreshold\n",
    "from si.feature_selection.select_k_best import SelectKBest\n",
    "from si.statistics.f_classification import f_classification"
   ],
   "metadata": {
    "collapsed": false,
    "ExecuteTime": {
     "end_time": "2023-10-11T13:56:40.517404054Z",
     "start_time": "2023-10-11T13:56:40.009557274Z"
    }
   },
   "outputs": []
  },
  {
   "cell_type": "code",
   "execution_count": 2,
   "source": [
    "# datasets\n",
    "iris_dataset = read_csv('../datasets/iris/iris.csv', features=True, label=True)\n",
    "\n",
    "random_dataset = Dataset.from_random(100, 10)\n",
    "random_dataset.X[:, 2] = 0"
   ],
   "metadata": {
    "collapsed": false,
    "ExecuteTime": {
     "end_time": "2023-10-11T13:56:41.465761915Z",
     "start_time": "2023-10-11T13:56:41.461805872Z"
    }
   },
   "outputs": []
  },
  {
   "cell_type": "code",
   "execution_count": 3,
   "source": [
    "# Variance Threshold\n",
    "var_threshold = VarianceThreshold(0.5)\n",
    "var_threshold.fit(iris_dataset)\n",
    "transformed_dataset = var_threshold.transform(iris_dataset)\n",
    "transformed_dataset.shape()"
   ],
   "metadata": {
    "collapsed": false,
    "ExecuteTime": {
     "end_time": "2023-10-11T13:56:43.691491097Z",
     "start_time": "2023-10-11T13:56:43.688743407Z"
    }
   },
   "outputs": []
  },
  {
   "cell_type": "code",
   "execution_count": 4,
   "source": [
    "transformed_dataset.X"
   ],
   "metadata": {
    "collapsed": false,
    "ExecuteTime": {
     "end_time": "2023-10-11T13:56:44.859002431Z",
     "start_time": "2023-10-11T13:56:44.855709406Z"
    }
   },
   "outputs": []
  },
  {
   "cell_type": "code",
   "execution_count": 5,
   "source": [
    "# low variance 3rd column\n",
    "VarianceThreshold().fit_transform(random_dataset).features"
   ],
   "metadata": {
    "collapsed": false,
    "ExecuteTime": {
     "end_time": "2023-10-11T13:56:47.447764048Z",
     "start_time": "2023-10-11T13:56:47.446176727Z"
    }
   },
   "outputs": []
  },
  {
   "cell_type": "code",
   "execution_count": 6,
   "source": [
    "# Select K Best with f_classification\n",
    "k_best = SelectKBest(score_func=f_classification, k=2)\n",
    "k_best.fit_transform(iris_dataset).features"
   ],
   "metadata": {
    "collapsed": false,
    "ExecuteTime": {
     "end_time": "2023-10-11T13:56:50.889382541Z",
     "start_time": "2023-10-11T13:56:50.871726247Z"
    }
   },
   "outputs": []
  },
  {
   "cell_type": "code",
   "execution_count": null,
   "source": [],
   "metadata": {
    "collapsed": false
   },
   "outputs": []
  }
 ],
 "metadata": {
  "kernelspec": {
   "display_name": "Python 3",
   "language": "python",
   "name": "python3"
  },
  "language_info": {
   "codemirror_mode": {
    "name": "ipython",
    "version": 2
   },
   "file_extension": ".py",
   "mimetype": "text/x-python",
   "name": "python",
   "nbconvert_exporter": "python",
   "pygments_lexer": "ipython2",
   "version": "2.7.6"
  }
 },
 "nbformat": 4,
 "nbformat_minor": 0
}
