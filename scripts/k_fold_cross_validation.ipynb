{
 "cells": [
  {
   "cell_type": "raw",
   "source": [
    "SIB - P7 \n",
    "\n",
    "A Jupyter Notebook with examples of how to use the linear models. 30/10/2023"
   ],
   "metadata": {
    "collapsed": false
   },
   "id": "8c07d0c98b05d5e0"
  },
  {
   "cell_type": "code",
   "execution_count": 10,
   "source": [
    "import numpy as np\n",
    "\n",
    "from si.io.csv_file import read_csv\n",
    "from si.models.logistic_regression import LogisticRegression\n",
    "from si.model_selection.cross_validation import k_fold_cross_validation"
   ],
   "metadata": {
    "collapsed": false,
    "ExecuteTime": {
     "end_time": "2023-10-19T15:47:20.203819536Z",
     "start_time": "2023-10-19T15:47:20.161034407Z"
    }
   },
   "id": "eba2b29f5d105812",
   "outputs": []
  },
  {
   "cell_type": "code",
   "execution_count": 11,
   "source": [
    "data = read_csv('../datasets/breast_bin/breast-bin.csv', sep=',', features=True, label=True)\n",
    "data.X"
   ],
   "metadata": {
    "collapsed": false,
    "ExecuteTime": {
     "end_time": "2023-10-19T15:47:21.604054812Z",
     "start_time": "2023-10-19T15:47:21.593679904Z"
    }
   },
   "id": "e9fbaf91184532dc",
   "outputs": []
  },
  {
   "cell_type": "code",
   "execution_count": 12,
   "source": [
    "data.y"
   ],
   "metadata": {
    "collapsed": false,
    "ExecuteTime": {
     "end_time": "2023-10-19T15:47:22.151514149Z",
     "start_time": "2023-10-19T15:47:22.145780973Z"
    }
   },
   "id": "77a06325311e9ae9",
   "outputs": []
  },
  {
   "cell_type": "code",
   "execution_count": 13,
   "source": [
    "lr = LogisticRegression()\n",
    "# note that in a real application, you should leave a test set aside\n",
    "scores = k_fold_cross_validation(model=lr, dataset=data, cv=5)\n",
    "scores"
   ],
   "metadata": {
    "collapsed": false,
    "ExecuteTime": {
     "end_time": "2023-10-19T15:47:23.273600197Z",
     "start_time": "2023-10-19T15:47:23.253527333Z"
    }
   },
   "id": "9d8d0f973ac1a216",
   "outputs": []
  },
  {
   "cell_type": "code",
   "execution_count": 14,
   "source": [
    "print(f\"Accuracy: {np.mean(scores):.2f} (+/- {np.std(scores):.2f})\")"
   ],
   "metadata": {
    "collapsed": false,
    "ExecuteTime": {
     "end_time": "2023-10-19T15:47:24.277770454Z",
     "start_time": "2023-10-19T15:47:24.275820335Z"
    }
   },
   "id": "7196b6009dcad5ca",
   "outputs": []
  }
 ],
 "metadata": {
  "kernelspec": {
   "display_name": "Python 3",
   "language": "python",
   "name": "python3"
  },
  "language_info": {
   "codemirror_mode": {
    "name": "ipython",
    "version": 2
   },
   "file_extension": ".py",
   "mimetype": "text/x-python",
   "name": "python",
   "nbconvert_exporter": "python",
   "pygments_lexer": "ipython2",
   "version": "2.7.6"
  }
 },
 "nbformat": 4,
 "nbformat_minor": 5
}
